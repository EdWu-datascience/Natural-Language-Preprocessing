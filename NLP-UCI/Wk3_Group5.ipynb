{
  "cells": [
    {
      "cell_type": "markdown",
      "metadata": {
        "id": "wmpodQkfokCX"
      },
      "source": [
        "## Import packages\n",
        "Make sure you installed ***sklearn***, ***matplotlib*** and ***numpy*** if you use your local machine"
      ]
    },
    {
      "cell_type": "code",
      "execution_count": 4,
      "metadata": {
        "id": "gxD_3fs1tX_E"
      },
      "outputs": [],
      "source": [
        "import matplotlib.pyplot as plt\n",
        "import numpy as np\n",
        "import sklearn\n",
        "from sklearn import datasets\n",
        "from sklearn.feature_extraction.text import CountVectorizer\n",
        "from sklearn.feature_extraction.text import TfidfVectorizer\n",
        "from sklearn.metrics import confusion_matrix, precision_score, precision_recall_curve, recall_score, f1_score\n",
        "from sklearn.naive_bayes import MultinomialNB\n",
        "from sklearn.linear_model import LogisticRegression\n",
        "from sklearn.metrics.pairwise import cosine_similarity"
      ]
    },
    {
      "cell_type": "markdown",
      "metadata": {
        "id": "U0vF7uNdox7d"
      },
      "source": [
        "## Prepare dataset (same as last time)\n",
        "The 20 newsgroups text dataset: [Details](https://scikit-learn.org/0.19/datasets/twenty_newsgroups.html)"
      ]
    },
    {
      "cell_type": "code",
      "execution_count": 5,
      "metadata": {
        "colab": {
          "base_uri": "https://localhost:8080/"
        },
        "id": "CPSdjUHDoSnf",
        "outputId": "bd3e8e15-ad83-4dd4-855d-647d9e12b2eb"
      },
      "outputs": [
        {
          "output_type": "stream",
          "name": "stdout",
          "text": [
            "train data size: 7919\n",
            "test data size: 3395\n"
          ]
        }
      ],
      "source": [
        "dataset = sklearn.datasets.fetch_20newsgroups()\n",
        "class Dataset:\n",
        "  def __init__(self, dataset, start_idx, end_idx):\n",
        "    self.data = dataset.data[start_idx:end_idx]\n",
        "    self.labels = dataset.target[start_idx:end_idx]\n",
        "    self.vecs = None\n",
        "\n",
        "    \n",
        "def split_dataset(dataset, train_rate=0.7):\n",
        "  data_size = len(dataset.data)\n",
        "  train_last_idx = int(train_rate * data_size)\n",
        "  train = Dataset(dataset, 0, train_last_idx)\n",
        "  test = Dataset(dataset, train_last_idx, data_size)\n",
        "  return train, test\n",
        "\n",
        "train, test = split_dataset(dataset)\n",
        "print('train data size:', len(train.data))\n",
        "print('test data size:', len(test.data))"
      ]
    },
    {
      "cell_type": "markdown",
      "metadata": {
        "id": "Ozf7I_JxabrV"
      },
      "source": [
        "## NGrams\n",
        "Convert a list of text documents to a matrix of token frequencies ([Details](http://scikit-learn.org/stable/modules/generated/sklearn.feature_extraction.text.CountVectorizer.html))"
      ]
    },
    {
      "cell_type": "code",
      "execution_count": 6,
      "metadata": {
        "colab": {
          "base_uri": "https://localhost:8080/"
        },
        "id": "cdWaBVSrarpn",
        "outputId": "85b50291-36ab-4257-fdc8-ab90505bad69"
      },
      "outputs": [
        {
          "output_type": "stream",
          "name": "stdout",
          "text": [
            "Fitting vectorizers\n"
          ]
        },
        {
          "output_type": "execute_result",
          "data": {
            "text/plain": [
              "[CountVectorizer(),\n",
              " CountVectorizer(ngram_range=(2, 2)),\n",
              " CountVectorizer(ngram_range=(3, 3)),\n",
              " CountVectorizer(ngram_range=(1, 3))]"
            ]
          },
          "metadata": {},
          "execution_count": 6
        }
      ],
      "source": [
        "unigram = CountVectorizer(ngram_range=(1,1))\n",
        "bigram = CountVectorizer(ngram_range=(2,2))\n",
        "trigram = CountVectorizer(ngram_range=(3,3))\n",
        "#fourgram = CountVectorizer(ngram_range=(4,4))\n",
        "combined = CountVectorizer(ngram_range=(1,3))\n",
        "vectorizers = [unigram, bigram, trigram, combined]\n",
        "print(\"Fitting vectorizers\")\n",
        "[vectorizer.fit(train.data) for vectorizer in vectorizers]"
      ]
    },
    {
      "cell_type": "markdown",
      "metadata": {
        "id": "W-sLSO-xgvA0"
      },
      "source": [
        "### See vocabulary size\n",
        "Q: Which one has the largest vocabulary size, **unigram**, **bigram**, **trigram**, or **combined**?"
      ]
    },
    {
      "cell_type": "code",
      "execution_count": 7,
      "metadata": {
        "colab": {
          "base_uri": "https://localhost:8080/"
        },
        "id": "gSNZEMx4gn-2",
        "outputId": "4f28c659-c4e8-43d8-eb5d-f2d2c2e93272"
      },
      "outputs": [
        {
          "output_type": "stream",
          "name": "stdout",
          "text": [
            "Vocabulary Size: 107212\n",
            "Vocabulary Size: 825425\n",
            "Vocabulary Size: 1514525\n",
            "Vocabulary Size: 2447162\n"
          ]
        }
      ],
      "source": [
        "for vectorizer in vectorizers:\n",
        "  print('Vocabulary Size:', len(vectorizer.vocabulary_))"
      ]
    },
    {
      "cell_type": "markdown",
      "metadata": {
        "id": "ztDYYEPsmbt8"
      },
      "source": [
        "### See vocabulary distribution\n",
        "Q: Do you remember the name of the law?"
      ]
    },
    {
      "cell_type": "code",
      "execution_count": 8,
      "metadata": {
        "id": "4fYPvOhAmMDe"
      },
      "outputs": [],
      "source": [
        "def show_distribution(vectorizer, train):\n",
        "  vecs = vectorizer.transform(train.data)\n",
        "  sum_mat = np.sum(vecs, axis=0)\n",
        "  freqs = np.sort(sum_mat).T[::-1]\n",
        "  plt.plot(list(range(1, sum_mat.shape[1] + 1)), freqs)\n",
        "  plt.xlabel('Rank')\n",
        "  plt.ylabel('Frequency')\n",
        "  plt.show()\n",
        "  \n",
        "  plt.loglog(list(range(1, sum_mat.shape[1] + 1)), freqs)\n",
        "  plt.xlabel('Rank')\n",
        "  plt.ylabel('Frequency')\n",
        "  plt.show()"
      ]
    },
    {
      "cell_type": "code",
      "execution_count": 9,
      "metadata": {
        "colab": {
          "base_uri": "https://localhost:8080/",
          "height": 545
        },
        "id": "ByGJcm7SnJW-",
        "outputId": "6a8c9554-52be-43ca-c96f-a2b8ae6d08d0"
      },
      "outputs": [
        {
          "output_type": "display_data",
          "data": {
            "text/plain": [
              "<Figure size 432x288 with 1 Axes>"
            ],
            "image/png": "[encoded data removed]"
          },
          "metadata": {
            "needs_background": "light"
          }
        },
        {
          "output_type": "display_data",
          "data": {
            "text/plain": [
              "<Figure size 432x288 with 1 Axes>"
            ],
            "image/png": "[encoded data removed]"
          },
          "metadata": {
            "needs_background": "light"
          }
        }
      ],
      "source": [
        "show_distribution(unigram, train) # try bigram, trigram and combined as well"
      ]
    },
    {
      "cell_type": "markdown",
      "metadata": {
        "id": "0l2P7B7HxFgm"
      },
      "source": [
        "### Convert word (ngram) to index and vice versa"
      ]
    },
    {
      "cell_type": "code",
      "execution_count": 11,
      "metadata": {
        "id": "Jti4MuGTxEQa"
      },
      "outputs": [],
      "source": [
        "def ngram2idx(ngram, vocab_dict):\n",
        "  index = vocab_dict[ngram] if ngram in vocab_dict.keys() else 'Not Found'\n",
        "  print(ngram, ' -> ', index)\n",
        "\n",
        "\n",
        "def idx2ngram(index, vocabs):\n",
        "  ngram = vocabs[index] if 0 <= index < len(vocabs) else 'Not Found'\n",
        "  print(index, ' -> ', ngram)"
      ]
    },
    {
      "cell_type": "code",
      "execution_count": 12,
      "metadata": {
        "colab": {
          "base_uri": "https://localhost:8080/"
        },
        "id": "K1qiwx8xyslo",
        "outputId": "adbeb761-a99c-4e2d-ef67-b5a7b1472e3c"
      },
      "outputs": [
        {
          "output_type": "stream",
          "name": "stdout",
          "text": [
            "we are  ->  Not Found\n",
            "783807  ->  Not Found\n",
            "to microsoft  ->  Not Found\n",
            "736413  ->  Not Found\n"
          ]
        },
        {
          "output_type": "stream",
          "name": "stderr",
          "text": [
            "/usr/local/lib/python3.7/dist-packages/sklearn/utils/deprecation.py:87: FutureWarning: Function get_feature_names is deprecated; get_feature_names is deprecated in 1.0 and will be removed in 1.2. Please use get_feature_names_out instead.\n",
            "  warnings.warn(msg, category=FutureWarning)\n"
          ]
        }
      ],
      "source": [
        "vectorizer = unigram # change to bigram or trigram\n",
        "vocab_dict = vectorizer.vocabulary_\n",
        "vocabs = vectorizer.get_feature_names()\n",
        "\n",
        "ngram2idx('we are', vocab_dict)\n",
        "idx2ngram(783807, vocabs)\n",
        "\n",
        "ngram2idx('to microsoft', vocab_dict)\n",
        "idx2ngram(736413, vocabs)"
      ]
    },
    {
      "cell_type": "markdown",
      "metadata": {
        "id": "6NC7zleE6GSo"
      },
      "source": [
        "### Convert sentence to vector"
      ]
    },
    {
      "cell_type": "code",
      "execution_count": 13,
      "metadata": {
        "id": "6uWu-D1R6Dqo"
      },
      "outputs": [],
      "source": [
        "def sentence2vec(sentence, vectorizer):\n",
        "  vec = vectorizer.transform([sentence])\n",
        "  vocabs = vectorizer.get_feature_names()\n",
        "  print('\\\"', sentence, '\\\" -> ')\n",
        "  print(vec)\n",
        "  for idx in vec.indices:\n",
        "    print(idx, vocabs[idx])\n",
        "  print()"
      ]
    },
    {
      "cell_type": "code",
      "execution_count": 14,
      "metadata": {
        "colab": {
          "base_uri": "https://localhost:8080/"
        },
        "id": "60kP-8IP7uzA",
        "outputId": "ef088f6b-9df4-4cff-ed33-2e8cd9970a26"
      },
      "outputs": [
        {
          "output_type": "stream",
          "name": "stderr",
          "text": [
            "/usr/local/lib/python3.7/dist-packages/sklearn/utils/deprecation.py:87: FutureWarning: Function get_feature_names is deprecated; get_feature_names is deprecated in 1.0 and will be removed in 1.2. Please use get_feature_names_out instead.\n",
            "  warnings.warn(msg, category=FutureWarning)\n"
          ]
        },
        {
          "output_type": "stream",
          "name": "stdout",
          "text": [
            "\" We are going to microsoft \" -> \n",
            "  (0, 23184)\t1\n",
            "  (0, 48917)\t1\n",
            "  (0, 67270)\t1\n",
            "  (0, 95302)\t1\n",
            "  (0, 101951)\t1\n",
            "23184 are\n",
            "48917 going\n",
            "67270 microsoft\n",
            "95302 to\n",
            "101951 we\n",
            "\n",
            "\" We are going to microsoft \" -> \n",
            "  (0, 109903)\t1\n",
            "  (0, 328698)\t1\n",
            "  (0, 736413)\t1\n",
            "  (0, 783807)\t1\n",
            "109903 are going\n",
            "328698 going to\n",
            "736413 to microsoft\n",
            "783807 we are\n",
            "\n",
            "\" We are going to microsoft \" -> \n",
            "  (0, 171354)\t1\n",
            "  (0, 1424292)\t1\n",
            "171354 are going to\n",
            "1424292 we are going\n",
            "\n",
            "\" We are going to microsoft \" -> \n",
            "  (0, 300895)\t1\n",
            "  (0, 304432)\t1\n",
            "  (0, 304443)\t1\n",
            "  (0, 919583)\t1\n",
            "  (0, 919995)\t1\n",
            "  (0, 1336821)\t1\n",
            "  (0, 2147049)\t1\n",
            "  (0, 2166280)\t1\n",
            "  (0, 2309753)\t1\n",
            "  (0, 2309963)\t1\n",
            "  (0, 2310052)\t1\n",
            "300895 are\n",
            "304432 are going\n",
            "304443 are going to\n",
            "919583 going\n",
            "919995 going to\n",
            "1336821 microsoft\n",
            "2147049 to\n",
            "2166280 to microsoft\n",
            "2309753 we\n",
            "2309963 we are\n",
            "2310052 we are going\n",
            "\n"
          ]
        }
      ],
      "source": [
        "for vectorizer in vectorizers:\n",
        "  sentence2vec('We are going to microsoft', vectorizer)"
      ]
    },
    {
      "cell_type": "markdown",
      "metadata": {
        "id": "zrA6rJUtal3U"
      },
      "source": [
        "## TFIDF Weights"
      ]
    },
    {
      "cell_type": "markdown",
      "metadata": {
        "id": "JLH6NPdVqQEA"
      },
      "source": [
        "### Tutorial with unigram\n",
        "Convert a collection of raw documents to a matrix of TF-IDF features. ([Details](https://scikit-learn.org/stable/modules/generated/sklearn.feature_extraction.text.TfidfVectorizer.html))"
      ]
    },
    {
      "cell_type": "code",
      "execution_count": 17,
      "metadata": {
        "id": "ca5w1wqtxwau"
      },
      "outputs": [],
      "source": [
        "example_docs=[\n",
        "       \"One Cent, Two Cents, Old Cent, New Cent: All About Money (Cat in the Hat's Learning Library\",\n",
        "       \"Inside Your Outside: All About the Human Body (Cat in the Hat's Learning Library)\",\n",
        "       \"Oh, The Things You Can Do That Are Good for You: All About Staying Healthy (Cat in the Hat's Learning Library)\",\n",
        "       \"On Beyond Bugs: All About Insects (Cat in the Hat's Learning Library)\",\n",
        "       \"There's No Place Like Space: All About Our Solar System (Cat in the Hat's Learning Library)\" \n",
        "      ]"
      ]
    },
    {
      "cell_type": "code",
      "execution_count": 18,
      "metadata": {
        "colab": {
          "base_uri": "https://localhost:8080/"
        },
        "id": "TCiznWDmxwau",
        "outputId": "5bf5e39d-3930-490c-9e70-95172e2ff938"
      },
      "outputs": [
        {
          "output_type": "execute_result",
          "data": {
            "text/plain": [
              "TfidfVectorizer()"
            ]
          },
          "metadata": {},
          "execution_count": 18
        }
      ],
      "source": [
        "tfidf = TfidfVectorizer()\n",
        "tfidf.fit(example_docs)"
      ]
    },
    {
      "cell_type": "code",
      "execution_count": 19,
      "metadata": {
        "colab": {
          "base_uri": "https://localhost:8080/"
        },
        "id": "8y8Up1J-xwau",
        "outputId": "7893a4f0-bb88-4ffc-f1c0-7f0fdd80d3b5"
      },
      "outputs": [
        {
          "output_type": "stream",
          "name": "stdout",
          "text": [
            "[[0.1161985  0.1161985  0.         0.         0.         0.\n",
            "  0.         0.1161985  0.73156679 0.2438556  0.         0.\n",
            "  0.         0.1161985  0.         0.         0.1161985  0.\n",
            "  0.         0.1161985  0.1161985  0.         0.2438556  0.2438556\n",
            "  0.         0.         0.2438556  0.         0.2438556  0.\n",
            "  0.         0.         0.         0.         0.         0.\n",
            "  0.         0.1161985  0.         0.         0.2438556  0.\n",
            "  0.        ]\n",
            " [0.17402264 0.17402264 0.         0.         0.36520606 0.\n",
            "  0.         0.17402264 0.         0.         0.         0.\n",
            "  0.         0.17402264 0.         0.36520606 0.17402264 0.\n",
            "  0.36520606 0.17402264 0.17402264 0.         0.         0.\n",
            "  0.         0.         0.         0.         0.         0.\n",
            "  0.36520606 0.         0.         0.         0.         0.\n",
            "  0.         0.34804529 0.         0.         0.         0.\n",
            "  0.36520606]\n",
            " [0.11731593 0.11731593 0.24620066 0.         0.         0.\n",
            "  0.24620066 0.11731593 0.         0.         0.24620066 0.24620066\n",
            "  0.24620066 0.11731593 0.24620066 0.         0.11731593 0.\n",
            "  0.         0.11731593 0.11731593 0.         0.         0.\n",
            "  0.         0.24620066 0.         0.         0.         0.\n",
            "  0.         0.         0.         0.         0.24620066 0.\n",
            "  0.24620066 0.23463186 0.         0.24620066 0.         0.49240131\n",
            "  0.        ]\n",
            " [0.19757794 0.19757794 0.         0.4146395  0.         0.4146395\n",
            "  0.         0.19757794 0.         0.         0.         0.\n",
            "  0.         0.19757794 0.         0.         0.19757794 0.4146395\n",
            "  0.         0.19757794 0.19757794 0.         0.         0.\n",
            "  0.         0.         0.         0.4146395  0.         0.\n",
            "  0.         0.         0.         0.         0.         0.\n",
            "  0.         0.19757794 0.         0.         0.         0.\n",
            "  0.        ]\n",
            " [0.15208639 0.15208639 0.         0.         0.         0.\n",
            "  0.         0.15208639 0.         0.         0.         0.\n",
            "  0.         0.15208639 0.         0.         0.15208639 0.\n",
            "  0.         0.15208639 0.15208639 0.31917038 0.         0.\n",
            "  0.31917038 0.         0.         0.         0.         0.31917038\n",
            "  0.         0.31917038 0.31917038 0.31917038 0.         0.31917038\n",
            "  0.         0.15208639 0.31917038 0.         0.         0.\n",
            "  0.        ]]\n"
          ]
        }
      ],
      "source": [
        "X = tfidf.transform(example_docs)\n",
        "print(X.toarray())\n",
        "#0.1161985  0.73156679 0.2438556 the first one and third one is different IDF is different."
      ]
    },
    {
      "cell_type": "code",
      "execution_count": 20,
      "metadata": {
        "colab": {
          "base_uri": "https://localhost:8080/"
        },
        "id": "cb4vo-zRxwau",
        "outputId": "d251bc85-de9d-43e7-df03-91e5521d88aa"
      },
      "outputs": [
        {
          "output_type": "execute_result",
          "data": {
            "text/plain": [
              "CountVectorizer()"
            ]
          },
          "metadata": {},
          "execution_count": 20
        }
      ],
      "source": [
        "bog =  CountVectorizer()\n",
        "bog.fit(example_docs)"
      ]
    },
    {
      "cell_type": "code",
      "execution_count": 21,
      "metadata": {
        "id": "j7slG9jYxwau"
      },
      "outputs": [],
      "source": [
        "Y = bog.transform(example_docs)"
      ]
    },
    {
      "cell_type": "code",
      "execution_count": 22,
      "metadata": {
        "colab": {
          "base_uri": "https://localhost:8080/"
        },
        "id": "Pzx4MCOpxwau",
        "outputId": "f48d2920-f065-4872-f082-4630a8362748"
      },
      "outputs": [
        {
          "output_type": "stream",
          "name": "stdout",
          "text": [
            "[[1 1 0 0 0 0 0 1 3 1 0 0 0 1 0 0 1 0 0 1 1 0 1 1 0 0 1 0 1 0 0 0 0 0 0 0\n",
            "  0 1 0 0 1 0 0]\n",
            " [1 1 0 0 1 0 0 1 0 0 0 0 0 1 0 1 1 0 1 1 1 0 0 0 0 0 0 0 0 0 1 0 0 0 0 0\n",
            "  0 2 0 0 0 0 1]\n",
            " [1 1 1 0 0 0 1 1 0 0 1 1 1 1 1 0 1 0 0 1 1 0 0 0 0 1 0 0 0 0 0 0 0 0 1 0\n",
            "  1 2 0 1 0 2 0]\n",
            " [1 1 0 1 0 1 0 1 0 0 0 0 0 1 0 0 1 1 0 1 1 0 0 0 0 0 0 1 0 0 0 0 0 0 0 0\n",
            "  0 1 0 0 0 0 0]\n",
            " [1 1 0 0 0 0 0 1 0 0 0 0 0 1 0 0 1 0 0 1 1 1 0 0 1 0 0 0 0 1 0 1 1 1 0 1\n",
            "  0 1 1 0 0 0 0]]\n"
          ]
        }
      ],
      "source": [
        "print(Y.toarray())"
      ]
    },
    {
      "cell_type": "code",
      "execution_count": 23,
      "metadata": {
        "colab": {
          "base_uri": "https://localhost:8080/"
        },
        "id": "USyDqqz7xwau",
        "outputId": "8ba0ede1-e8f9-411b-a33a-cb2615e26c53"
      },
      "outputs": [
        {
          "output_type": "stream",
          "name": "stdout",
          "text": [
            "[[1.         0.18199053 0.12268742 0.18366608 0.14137768]\n",
            " [0.18199053 1.         0.22457191 0.30944732 0.23819829]\n",
            " [0.12268742 0.22457191 1.         0.20861136 0.16057941]\n",
            " [0.18366608 0.30944732 0.20861136 1.         0.24039133]\n",
            " [0.14137768 0.23819829 0.16057941 0.24039133 1.        ]]\n"
          ]
        }
      ],
      "source": [
        "print(cosine_similarity(X))\n",
        "# X is TF-IDF similarity\n",
        "# 0.18199053 is how similar is the first and the second document."
      ]
    },
    {
      "cell_type": "code",
      "execution_count": 24,
      "metadata": {
        "colab": {
          "base_uri": "https://localhost:8080/"
        },
        "id": "X0KhunUixwav",
        "outputId": "3d44eb5e-f226-46f5-a1b1-05e5018664de"
      },
      "outputs": [
        {
          "output_type": "stream",
          "name": "stdout",
          "text": [
            "[[1.         0.46915743 0.37532595 0.48154341 0.41702883]\n",
            " [0.46915743 1.         0.55       0.64951905 0.5625    ]\n",
            " [0.37532595 0.55       1.         0.51961524 0.45      ]\n",
            " [0.48154341 0.64951905 0.51961524 1.         0.57735027]\n",
            " [0.41702883 0.5625     0.45       0.57735027 1.        ]]\n"
          ]
        }
      ],
      "source": [
        "print(cosine_similarity(Y))\n",
        "# Y is \n",
        "# X and Y is in different scale."
      ]
    },
    {
      "cell_type": "markdown",
      "metadata": {
        "id": "J3_qEqu7xwav"
      },
      "source": [
        "## Create TFIDF vectors for newsgroup articles"
      ]
    },
    {
      "cell_type": "code",
      "execution_count": 25,
      "metadata": {
        "colab": {
          "base_uri": "https://localhost:8080/"
        },
        "id": "pKeax8ata-yc",
        "outputId": "61001e98-28c1-405b-dd19-92d9013a9cd0"
      },
      "outputs": [
        {
          "output_type": "execute_result",
          "data": {
            "text/plain": [
              "TfidfVectorizer()"
            ]
          },
          "metadata": {},
          "execution_count": 25
        }
      ],
      "source": [
        "tfidf = TfidfVectorizer()\n",
        "tfidf.fit(train.data)"
      ]
    },
    {
      "cell_type": "code",
      "execution_count": 26,
      "metadata": {
        "colab": {
          "base_uri": "https://localhost:8080/"
        },
        "id": "E7m6bH15bccj",
        "outputId": "06e768ca-525a-474b-c152-b408806160b8"
      },
      "outputs": [
        {
          "output_type": "stream",
          "name": "stdout",
          "text": [
            "the 1.0693987980198238\n",
            "man 3.7645403890569527\n",
            "microsoft 5.214972550010716\n"
          ]
        }
      ],
      "source": [
        "print('the', tfidf.idf_[tfidf.vocabulary_['the']])\n",
        "print('man', tfidf.idf_[tfidf.vocabulary_['man']])\n",
        "print('microsoft', tfidf.idf_[tfidf.vocabulary_['microsoft']])"
      ]
    },
    {
      "cell_type": "code",
      "execution_count": 27,
      "metadata": {
        "colab": {
          "base_uri": "https://localhost:8080/"
        },
        "id": "IEWVNsJSb5gb",
        "outputId": "e6ac163a-8344-431b-c1bc-fe75c5d282f5"
      },
      "outputs": [
        {
          "output_type": "stream",
          "name": "stdout",
          "text": [
            "Vocabulary Size: 107212\n",
            "\" We are going to microsoft \" -> \n",
            "  (0, 101951)\t0.34417196761665414\n",
            "  (0, 95302)\t0.1622831702359858\n",
            "  (0, 67270)\t0.765634619765414\n",
            "  (0, 48917)\t0.4590925435788398\n",
            "  (0, 23184)\t0.24134517772688163\n",
            "101951 we\n",
            "95302 to\n",
            "67270 microsoft\n",
            "48917 going\n",
            "23184 are\n",
            "\n"
          ]
        },
        {
          "output_type": "stream",
          "name": "stderr",
          "text": [
            "/usr/local/lib/python3.7/dist-packages/sklearn/utils/deprecation.py:87: FutureWarning: Function get_feature_names is deprecated; get_feature_names is deprecated in 1.0 and will be removed in 1.2. Please use get_feature_names_out instead.\n",
            "  warnings.warn(msg, category=FutureWarning)\n"
          ]
        },
        {
          "output_type": "stream",
          "name": "stdout",
          "text": [
            "\" We are going to microsoft \" -> \n",
            "  (0, 23184)\t1\n",
            "  (0, 48917)\t1\n",
            "  (0, 67270)\t1\n",
            "  (0, 95302)\t1\n",
            "  (0, 101951)\t1\n",
            "23184 are\n",
            "48917 going\n",
            "67270 microsoft\n",
            "95302 to\n",
            "101951 we\n",
            "\n"
          ]
        }
      ],
      "source": [
        "print('Vocabulary Size:', len(tfidf.vocabulary_))\n",
        "sentence2vec('We are going to microsoft', tfidf)\n",
        "sentence2vec('We are going to microsoft', unigram)"
      ]
    },
    {
      "cell_type": "code",
      "execution_count": 28,
      "metadata": {
        "colab": {
          "base_uri": "https://localhost:8080/",
          "height": 545
        },
        "id": "djy9VnyOrVhi",
        "outputId": "34e55f6b-6c68-46d9-8076-2b8673587682"
      },
      "outputs": [
        {
          "output_type": "display_data",
          "data": {
            "text/plain": [
              "<Figure size 432x288 with 1 Axes>"
            ],
            "image/png": "[encoded data removed]"
          },
          "metadata": {
            "needs_background": "light"
          }
        },
        {
          "output_type": "display_data",
          "data": {
            "text/plain": [
              "<Figure size 432x288 with 1 Axes>"
            ],
            "image/png": "[encoded data removed]"
          },
          "metadata": {
            "needs_background": "light"
          }
        }
      ],
      "source": [
        "show_distribution(tfidf, train)"
      ]
    },
    {
      "cell_type": "markdown",
      "metadata": {
        "id": "lOMzcyforJrM"
      },
      "source": [
        "### Tutorial with bigram and trigram"
      ]
    },
    {
      "cell_type": "code",
      "execution_count": 29,
      "metadata": {
        "id": "aUa5CrfzcV_N"
      },
      "outputs": [],
      "source": [
        "tfidf_bigram = TfidfVectorizer(ngram_range=(2,2))\n",
        "tfidf_trigram = TfidfVectorizer(ngram_range=(3,3))\n",
        "tfidf_combined = TfidfVectorizer(ngram_range=(1,3))\n",
        "tfidf_bigram.fit(train.data)\n",
        "tfidf_trigram.fit(train.data)\n",
        "tfidf_combined.fit(train.data)\n",
        "tfidf_vectorizers = [tfidf, tfidf_bigram, tfidf_trigram, tfidf_combined]"
      ]
    },
    {
      "cell_type": "code",
      "execution_count": 30,
      "metadata": {
        "colab": {
          "base_uri": "https://localhost:8080/",
          "height": 545
        },
        "id": "52D7X_JFsiu2",
        "outputId": "b6552091-a1d5-4c85-99a8-3081887ca75b"
      },
      "outputs": [
        {
          "output_type": "display_data",
          "data": {
            "text/plain": [
              "<Figure size 432x288 with 1 Axes>"
            ],
            "image/png": "[encoded data removed]"
          },
          "metadata": {
            "needs_background": "light"
          }
        },
        {
          "output_type": "display_data",
          "data": {
            "text/plain": [
              "<Figure size 432x288 with 1 Axes>"
            ],
            "image/png": "[encoded data removed]"
          },
          "metadata": {
            "needs_background": "light"
          }
        }
      ],
      "source": [
        "show_distribution(tfidf_bigram, train)"
      ]
    },
    {
      "cell_type": "code",
      "execution_count": 31,
      "metadata": {
        "colab": {
          "base_uri": "https://localhost:8080/"
        },
        "id": "f_DYEEuccf5k",
        "outputId": "35a994a9-8c28-490d-d49a-75563cb6647a"
      },
      "outputs": [
        {
          "output_type": "stream",
          "name": "stdout",
          "text": [
            "Vocabulary Size: 825425\n"
          ]
        },
        {
          "output_type": "stream",
          "name": "stderr",
          "text": [
            "/usr/local/lib/python3.7/dist-packages/sklearn/utils/deprecation.py:87: FutureWarning: Function get_feature_names is deprecated; get_feature_names is deprecated in 1.0 and will be removed in 1.2. Please use get_feature_names_out instead.\n",
            "  warnings.warn(msg, category=FutureWarning)\n"
          ]
        },
        {
          "output_type": "stream",
          "name": "stdout",
          "text": [
            "\" We are going to microsoft \" -> \n",
            "  (0, 783807)\t0.37403683743500654\n",
            "  (0, 736413)\t0.7336470123086184\n",
            "  (0, 328698)\t0.32571753506505674\n",
            "  (0, 109903)\t0.46450682763916384\n",
            "783807 we are\n",
            "736413 to microsoft\n",
            "328698 going to\n",
            "109903 are going\n",
            "\n",
            "Vocabulary Size: 2447162\n"
          ]
        },
        {
          "output_type": "stream",
          "name": "stderr",
          "text": [
            "/usr/local/lib/python3.7/dist-packages/sklearn/utils/deprecation.py:87: FutureWarning: Function get_feature_names is deprecated; get_feature_names is deprecated in 1.0 and will be removed in 1.2. Please use get_feature_names_out instead.\n",
            "  warnings.warn(msg, category=FutureWarning)\n"
          ]
        },
        {
          "output_type": "stream",
          "name": "stdout",
          "text": [
            "\" We are going to microsoft \" -> \n",
            "  (0, 2310052)\t0.46430036807785535\n",
            "  (0, 2309963)\t0.2594895230780238\n",
            "  (0, 2309753)\t0.15107675883552044\n",
            "  (0, 2166280)\t0.5089704924175021\n",
            "  (0, 2147049)\t0.07123536394490301\n",
            "  (0, 1336821)\t0.33608081915392957\n",
            "  (0, 919995)\t0.225967817533126\n",
            "  (0, 919583)\t0.20152197161710347\n",
            "  (0, 304443)\t0.33233605156914814\n",
            "  (0, 304432)\t0.3222534336381154\n",
            "  (0, 300895)\t0.10594020037149467\n",
            "2310052 we are going\n",
            "2309963 we are\n",
            "2309753 we\n",
            "2166280 to microsoft\n",
            "2147049 to\n",
            "1336821 microsoft\n",
            "919995 going to\n",
            "919583 going\n",
            "304443 are going to\n",
            "304432 are going\n",
            "300895 are\n",
            "\n"
          ]
        }
      ],
      "source": [
        "print('Vocabulary Size:', len(tfidf_bigram.vocabulary_))\n",
        "sentence2vec('We are going to microsoft', tfidf_bigram)\n",
        "print('Vocabulary Size:', len(tfidf_combined.vocabulary_))\n",
        "sentence2vec('We are going to microsoft', tfidf_combined)"
      ]
    },
    {
      "cell_type": "markdown",
      "metadata": {
        "id": "rxd4FMqUxwav"
      },
      "source": [
        "# Excercise 1\n",
        "1. Find two documents that are very close in the Bag-of-word space but very far apart in the TFIDF space. \n",
        "2. Find two documents that are very close in the TFIDF space but very far apart in the Bag-of-word space. "
      ]
    },
    {
      "cell_type": "code",
      "source": [
        "tfidf1 = TfidfVectorizer()\n",
        "tfidf1.fit(train.data)\n",
        "X1 = tfidf1.transform(train.data)\n",
        "\n",
        "bog1 =  CountVectorizer()\n",
        "bog1.fit(train.data)\n",
        "Y1 = bog1.transform(train.data)\n",
        "temp1 = cosine_similarity(X1)\n",
        "print(cosine_similarity(X1))"
      ],
      "metadata": {
        "colab": {
          "base_uri": "https://localhost:8080/"
        },
        "id": "IKjLkBJk9obq",
        "outputId": "a1012ead-8b34-4e23-b02c-676eeaeaf4c3"
      },
      "execution_count": 32,
      "outputs": [
        {
          "output_type": "stream",
          "name": "stdout",
          "text": [
            "[[1.         0.04470404 0.11153385 ... 0.02597932 0.04780809 0.08958609]\n",
            " [0.04470404 1.         0.06288753 ... 0.01340188 0.03291365 0.05969698]\n",
            " [0.11153385 0.06288753 1.         ... 0.04887857 0.06691767 0.15398204]\n",
            " ...\n",
            " [0.02597932 0.01340188 0.04887857 ... 1.         0.01615664 0.02895161]\n",
            " [0.04780809 0.03291365 0.06691767 ... 0.01615664 1.         0.07928381]\n",
            " [0.08958609 0.05969698 0.15398204 ... 0.02895161 0.07928381 1.        ]]\n"
          ]
        }
      ]
    },
    {
      "cell_type": "code",
      "source": [
        "print(cosine_similarity(Y1))\n",
        "temp2 = cosine_similarity(Y1)"
      ],
      "metadata": {
        "colab": {
          "base_uri": "https://localhost:8080/"
        },
        "id": "vpqu8ZtU_TUq",
        "outputId": "e93dc421-938e-4e05-ac18-dfbd3ca60f0e"
      },
      "execution_count": 33,
      "outputs": [
        {
          "output_type": "stream",
          "name": "stdout",
          "text": [
            "[[1.         0.31275985 0.51513964 ... 0.1765447  0.32311042 0.44003914]\n",
            " [0.31275985 1.         0.36747708 ... 0.13181818 0.26840271 0.39054169]\n",
            " [0.51513964 0.36747708 1.         ... 0.16256867 0.41767736 0.61172695]\n",
            " ...\n",
            " [0.1765447  0.13181818 0.16256867 ... 1.         0.12977714 0.19598351]\n",
            " [0.32311042 0.26840271 0.41767736 ... 0.12977714 1.         0.36320008]\n",
            " [0.44003914 0.39054169 0.61172695 ... 0.19598351 0.36320008 1.        ]]\n"
          ]
        }
      ]
    },
    {
      "cell_type": "code",
      "source": [
        "diff = temp1-temp2\n",
        "np.where(diff == np.max(diff))"
      ],
      "metadata": {
        "colab": {
          "base_uri": "https://localhost:8080/"
        },
        "id": "bp-EW9moBh4Y",
        "outputId": "413c2f9c-611c-4279-e08f-3c7d8c31e506"
      },
      "execution_count": 34,
      "outputs": [
        {
          "output_type": "execute_result",
          "data": {
            "text/plain": [
              "(array([ 726, 5339]), array([5339,  726]))"
            ]
          },
          "metadata": {},
          "execution_count": 34
        }
      ]
    },
    {
      "cell_type": "code",
      "source": [
        "np.where(diff == np.min(diff))"
      ],
      "metadata": {
        "colab": {
          "base_uri": "https://localhost:8080/"
        },
        "id": "Eu7wcD72BpAy",
        "outputId": "f60f3d65-465d-4787-bc3f-ff170d3ef50a"
      },
      "execution_count": 35,
      "outputs": [
        {
          "output_type": "execute_result",
          "data": {
            "text/plain": [
              "(array([ 524, 2397]), array([2397,  524]))"
            ]
          },
          "metadata": {},
          "execution_count": 35
        }
      ]
    },
    {
      "cell_type": "markdown",
      "source": [
        "The two documents that are very close in the Bag-of-word space but very far apart in the TFIDF space are 726 and 5339.\n",
        "The two documents that are very close in the TFIDF space but very far apart in the Bag-of-word space are 524 and 2397"
      ],
      "metadata": {
        "id": "q0C5zEk80Vxt"
      }
    },
    {
      "cell_type": "markdown",
      "metadata": {
        "id": "I6eoVMSoat33"
      },
      "source": [
        "## Classification with MNB\n",
        "\n",
        "- function for training and testing given vectorizer, classifier, return eval"
      ]
    },
    {
      "cell_type": "code",
      "execution_count": 36,
      "metadata": {
        "id": "KlT8JNM2SJbm"
      },
      "outputs": [],
      "source": [
        "def classification(vectorizer, model, fit_vect=False):\n",
        "  if fit_vect:\n",
        "    vectorizer.fit(train.data)\n",
        "  train.vecs = vectorizer.transform(train.data)\n",
        "  test.vecs = vectorizer.transform(test.data)\n",
        "  model.fit(train.vecs, train.labels)\n",
        "  train_preds = model.predict(train.vecs)\n",
        "  train_f1 = f1_score(train.labels, train_preds, average='micro')\n",
        "  test_preds = model.predict(test.vecs)\n",
        "  test_f1 = f1_score(test.labels, test_preds, average='micro')\n",
        "  return train_f1, test_f1  "
      ]
    },
    {
      "cell_type": "markdown",
      "metadata": {
        "id": "nXR5rKYX4Kxc"
      },
      "source": [
        "### MNB with default parameters"
      ]
    },
    {
      "cell_type": "code",
      "execution_count": 37,
      "metadata": {
        "colab": {
          "base_uri": "https://localhost:8080/"
        },
        "id": "XltpsSpTBZ9I",
        "outputId": "d1844d54-bb51-45e6-fc8f-88efd5c19842"
      },
      "outputs": [
        {
          "output_type": "execute_result",
          "data": {
            "text/plain": [
              "(0.9963379214547291, 0.8150220913107512)"
            ]
          },
          "metadata": {},
          "execution_count": 37
        }
      ],
      "source": [
        "model = MultinomialNB()\n",
        "classification(tfidf_trigram, model)"
      ]
    },
    {
      "cell_type": "markdown",
      "metadata": {
        "id": "WIRgOPES4QdM"
      },
      "source": [
        "### Let's tune MNB (alpha)\n",
        "Naive Bayes classifier for multinomial models ([Details](https://scikit-learn.org/stable/modules/generated/sklearn.naive_bayes.MultinomialNB.html))"
      ]
    },
    {
      "cell_type": "code",
      "execution_count": 38,
      "metadata": {
        "colab": {
          "base_uri": "https://localhost:8080/",
          "height": 604
        },
        "id": "R3mxLb6HeuwO",
        "outputId": "fb00685e-07c3-42d5-f12c-2cfbb81927d5"
      },
      "outputs": [
        {
          "output_type": "stream",
          "name": "stdout",
          "text": [
            "0.1 => (0.9994948857178937, 0.8827687776141384)\n",
            "0.15000000000000002 => (0.9994948857178937, 0.882179675994109)\n",
            "0.20000000000000004 => (0.9992423285768405, 0.8804123711340206)\n",
            "0.25000000000000006 => (0.9988634928652608, 0.8759941089837997)\n",
            "0.30000000000000004 => (0.9988634928652608, 0.8739322533136966)\n",
            "0.3500000000000001 => (0.9984846571536811, 0.8706921944035346)\n",
            "0.40000000000000013 => (0.9983583785831545, 0.8680412371134021)\n",
            "0.45000000000000007 => (0.9982321000126277, 0.8653902798232695)\n",
            "0.5000000000000001 => (0.9982321000126277, 0.8612665684830634)\n",
            "0.5500000000000002 => (0.9982321000126277, 0.8592047128129602)\n",
            "0.6000000000000002 => (0.9981058214421012, 0.8574374079528719)\n",
            "0.6500000000000001 => (0.9979795428715746, 0.8565537555228276)\n",
            "0.7000000000000002 => (0.9979795428715746, 0.8536082474226804)\n",
            "0.7500000000000002 => (0.9977269857305215, 0.8521354933726067)\n",
            "0.8000000000000002 => (0.9973481500189418, 0.8512518409425626)\n",
            "0.8500000000000002 => (0.9972218714484152, 0.8503681885125184)\n",
            "0.9000000000000002 => (0.9972218714484152, 0.8480117820324006)\n",
            "0.9500000000000003 => (0.9972218714484152, 0.8474226804123711)\n",
            "1.0000000000000004 => (0.9970955928778886, 0.8459499263622975)\n"
          ]
        },
        {
          "output_type": "display_data",
          "data": {
            "text/plain": [
              "<Figure size 432x288 with 1 Axes>"
            ],
            "image/png": "[encoded data removed]"
          },
          "metadata": {
            "needs_background": "light"
          }
        }
      ],
      "source": [
        "arange = np.arange(0.1, 1.01, 0.05)\n",
        "results = []\n",
        "for a in arange:\n",
        "  model = MultinomialNB(alpha=a)\n",
        "  res = classification(bigram, model)\n",
        "  results.append(res)\n",
        "  print(a, '=>', res)\n",
        "  \n",
        "plt.plot(arange, results)\n",
        "plt.legend([\"Train\", \"Test\"])\n",
        "plt.show()"
      ]
    },
    {
      "cell_type": "markdown",
      "metadata": {
        "id": "YQxjyHRHNLGc"
      },
      "source": [
        "### Let's compare different n-grams with a fixed alpha for MNB"
      ]
    },
    {
      "cell_type": "code",
      "execution_count": 39,
      "metadata": {
        "colab": {
          "base_uri": "https://localhost:8080/",
          "height": 336
        },
        "id": "VwrMjBXROu5w",
        "outputId": "8a4dfa00-6cf8-4913-cc76-101f0d89cbcc"
      },
      "outputs": [
        {
          "output_type": "stream",
          "name": "stdout",
          "text": [
            "unigram => (0.9307993433514332, 0.8273932253313696)\n",
            "bigram => (0.9863619143831291, 0.8379970544918999)\n",
            "trigram => (0.9963379214547291, 0.8150220913107512)\n",
            "combined => (0.9773961358757419, 0.8459499263622975)\n"
          ]
        },
        {
          "output_type": "display_data",
          "data": {
            "text/plain": [
              "<Figure size 432x288 with 1 Axes>"
            ],
            "image/png": "[encoded data removed]"
          },
          "metadata": {
            "needs_background": "light"
          }
        }
      ],
      "source": [
        "vectorizer_names = ['unigram', 'bigram', 'trigram', 'combined']\n",
        "xs = list(range(len(vectorizer_names)))\n",
        "results = []\n",
        "for i in range(len(tfidf_vectorizers)):\n",
        "  model = MultinomialNB(alpha=1.0)\n",
        "  res = classification(tfidf_vectorizers[i], model)\n",
        "  results.append(res)\n",
        "  print(vectorizer_names[i], '=>', res)\n",
        "  \n",
        "plt.plot(xs, results)\n",
        "plt.xticks(xs, vectorizer_names)\n",
        "plt.legend([\"Train\", \"Test\"])\n",
        "plt.show()"
      ]
    },
    {
      "cell_type": "markdown",
      "metadata": {
        "id": "9TctwWbvyS8W"
      },
      "source": [
        "## Excercise2: Let's tune TfidfVectorizer with a fixed alpha for MNB\n",
        "Compare TfidfVectorizers with different parameters ([Details](http://scikit-learn.org/stable/modules/generated/sklearn.feature_extraction.text.TfidfVectorizer.html#sklearn.feature_extraction.text.TfidfVectorizer))  \n",
        "e.g.,\n",
        "- stop_words =‘english’(None by default)\n",
        "- min_df = 5 (1 by default)\n",
        "- sublinear_tf = True (False by default)\n",
        "- use_idf = False (True by default)\n",
        "- binary = True (False by default)"
      ]
    },
    {
      "cell_type": "code",
      "execution_count": 43,
      "metadata": {
        "id": "fL6bpDp2ySJc",
        "colab": {
          "base_uri": "https://localhost:8080/",
          "height": 373
        },
        "outputId": "f012459e-864c-4ea6-85bb-08d08d586f8e"
      },
      "outputs": [
        {
          "output_type": "stream",
          "name": "stdout",
          "text": [
            "default => (0.9992423285768405, 0.9007363770250368)\n",
            "eng => (0.9992423285768405, 0.8995581737849779)\n",
            "mindf => (0.9931809571915646, 0.8721649484536083)\n",
            "sublinear_tf => (0.9989897714357874, 0.9033873343151694)\n",
            "use_idf => (0.9987372142947342, 0.9060382916053019)\n",
            "binary => (0.999116050006314, 0.9004418262150221)\n"
          ]
        },
        {
          "output_type": "display_data",
          "data": {
            "text/plain": [
              "<Figure size 432x288 with 1 Axes>"
            ],
            "image/png": "[encoded data removed]"
          },
          "metadata": {
            "needs_background": "light"
          }
        }
      ],
      "source": [
        "tfidf_vectorizers = [TfidfVectorizer(),TfidfVectorizer(stop_words = 'english'), TfidfVectorizer(min_df = 10), TfidfVectorizer(sublinear_tf=True),\n",
        "                    TfidfVectorizer(use_idf = False), TfidfVectorizer(binary=True)] # add parameters to each vectorizer\n",
        "names = ['default', 'eng', 'mindf', 'sublinear_tf', 'use_idf', 'binary'] # give short names to say what you changed\n",
        "xs = list(range(len(tfidf_vectorizers)))\n",
        "results = list()\n",
        "for i in range(len(tfidf_vectorizers)):\n",
        "  tfidf_vectorizers[i].fit(train.data)\n",
        "  model = MultinomialNB(alpha=0.0001) # set a very small value\n",
        "  res = classification(tfidf_vectorizers[i], model) # we need to set fit_vect=True, but why?\n",
        "  results.append(res)\n",
        "  print(names[i], '=>', res)\n",
        "  \n",
        "plt.plot(xs, results)\n",
        "plt.xticks(xs, names)\n",
        "plt.legend([\"Train\", \"Test\"])\n",
        "plt.show()"
      ]
    },
    {
      "cell_type": "markdown",
      "metadata": {
        "id": "hJTNDfXM3rSM"
      },
      "source": [
        "### What parameter did you change to get the best test performance?"
      ]
    },
    {
      "cell_type": "markdown",
      "source": [
        "From the above results, we can see that the model has best performance with use_idf = False, the accuracy of this model on testing dataset is 0.9060382916053019."
      ],
      "metadata": {
        "id": "2FE44pij2TR5"
      }
    },
    {
      "cell_type": "markdown",
      "metadata": {
        "id": "xCLHtNWK8CAI"
      },
      "source": [
        "### [Optional] Let's tune parameters of TfidfVectorizer and MNB simultaneously\n",
        "This parameter tuning is called ***grid search***"
      ]
    },
    {
      "cell_type": "code",
      "execution_count": 44,
      "metadata": {
        "colab": {
          "base_uri": "https://localhost:8080/",
          "height": 284
        },
        "id": "rsazUnuA8YpE",
        "outputId": "63a37a3d-2cbe-40f3-9be7-533cd6c3c887"
      },
      "outputs": [
        {
          "output_type": "display_data",
          "data": {
            "text/plain": [
              "<Figure size 432x288 with 2 Axes>"
            ],
            "image/png": "[encoded data removed]"
          },
          "metadata": {
            "needs_background": "light"
          }
        }
      ],
      "source": [
        "min_dfs = np.arange(0.0, 1.0, 0.1)\n",
        "alphas = np.arange(0.1, 1.0, 0.1)\n",
        "xx, yy = np.meshgrid(alphas, min_dfs)\n",
        "f1_score_mat = np.zeros((len(min_dfs), len(alphas)))\n",
        "for i in range(len(min_dfs)):\n",
        "  tfidf_vectorizer = TfidfVectorizer(min_df=min_dfs[i])\n",
        "  for j in range(len(alphas)):\n",
        "    model = MultinomialNB(alpha=alphas[j])\n",
        "    res = classification(tfidf_vectorizer, model, fit_vect=True)\n",
        "    f1_score_mat[i][j] = res[1]\n",
        "    \n",
        "plt.contourf(alphas, min_dfs, f1_score_mat, cmap=plt.cm.viridis, levels=np.arange(0.0,1.05,0.05))\n",
        "plt.xlabel('min_df')\n",
        "plt.ylabel('alpha')\n",
        "plt.colorbar()\n",
        "plt.show()"
      ]
    }
  ],
  "metadata": {
    "colab": {
      "collapsed_sections": [],
      "name": "Wk3 - TFIDF and Ngrams.ipynb",
      "provenance": [],
      "toc_visible": true
    },
    "kernelspec": {
      "display_name": "Python 3",
      "language": "python",
      "name": "python3"
    },
    "language_info": {
      "codemirror_mode": {
        "name": "ipython",
        "version": 3
      },
      "file_extension": ".py",
      "mimetype": "text/x-python",
      "name": "python",
      "nbconvert_exporter": "python",
      "pygments_lexer": "ipython3",
      "version": "3.7.1"
    }
  },
  "nbformat": 4,
  "nbformat_minor": 0
}
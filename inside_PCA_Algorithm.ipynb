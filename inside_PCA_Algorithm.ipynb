{
  "nbformat": 4,
  "nbformat_minor": 0,
  "metadata": {
    "colab": {
      "name": "inside PCA Algorithm.ipynb",
      "provenance": [],
      "authorship_tag": "ABX9TyOS56lyq2ylt3cbZ9oNZnCZ",
      "include_colab_link": true
    },
    "kernelspec": {
      "name": "python3",
      "display_name": "Python 3"
    },
    "language_info": {
      "name": "python"
    }
  },
  "cells": [
    {
      "cell_type": "markdown",
      "metadata": {
        "id": "view-in-github",
        "colab_type": "text"
      },
      "source": [
        "<a href=\"https://colab.research.google.com/github/EdWu-datascience/natural-language-proprecessing/blob/main/inside_PCA_Algorithm.ipynb\" target=\"_parent\"><img src=\"https://colab.research.google.com/assets/colab-badge.svg\" alt=\"Open In Colab\"/></a>"
      ]
    },
    {
      "cell_type": "code",
      "metadata": {
        "id": "kT0rhgE-fZ6C"
      },
      "source": [
        "import numpy as np"
      ],
      "execution_count": 5,
      "outputs": []
    },
    {
      "cell_type": "code",
      "metadata": {
        "id": "1nOlxx5De8Z3"
      },
      "source": [
        "def compute_pca(X, n_components=2):\n",
        "    \"\"\"\n",
        "    Input:\n",
        "        X: of dimension (m,n) where each row corresponds to a word vector\n",
        "        n_components: Number of components you want to keep.\n",
        "    Output:\n",
        "        X_reduced: data transformed in 2 dims/columns + regenerated original data\n",
        "    \"\"\"\n",
        "    # mean center the data\n",
        "    X_demeaned = X-np.mean(X,axis=0)\n",
        "    # calculate the covariance matrix\n",
        "    covariance_matrix = np.cov(X_demeaned,rowvar=False)#by defalut rowvar = True(each row represent a variable,with observation in columns)\n",
        "    print('covariance_matrix shape is:',covariance_matrix.shape)\n",
        "    print(covariance_matrix)\n",
        "    #in our case, each row represent a sentence which is an observation\n",
        "    # calculate eigenvectors & eigenvalues of the covariance matrix\n",
        "    eigen_vals, eigen_vecs = np.linalg.eigh(covariance_matrix)\n",
        "    \n",
        "    # sort eigenvalue in increasing order (get the indices from the sort)\n",
        "    idx_sorted = np.argsort(eigen_vals)\n",
        "  \n",
        "    # reverse the order so that it's from highest to lowest.\n",
        "    idx_sorted_decreasing = idx_sorted[::-1]\n",
        "    \n",
        "    # sort the eigen values by idx_sorted_decreasing\n",
        "    eigen_vals_sorted = eigen_vals[idx_sorted_decreasing]\n",
        "\n",
        "    # sort eigenvectors using the idx_sorted_decreasing indices\n",
        "    eigen_vecs_sorted = eigen_vecs[:,idx_sorted_decreasing]\n",
        "    # select the first n eigenvectors (n is desired dimension\n",
        "    # of rescaled data array, or dims_rescaled_data)\n",
        "    eigen_vecs_subset = eigen_vecs_sorted[:,0:n_components]\n",
        "\n",
        "    # transform the data by multiplying the transpose of the eigenvectors \n",
        "    # with the transpose of the de-meaned data\n",
        "    # Then take the transpose of that product.\n",
        "    X_reduced = np.dot(X_demeaned,eigen_vecs_subset)\n",
        "    \n",
        "\n",
        "    return X_reduced"
      ],
      "execution_count": 6,
      "outputs": []
    },
    {
      "cell_type": "code",
      "metadata": {
        "colab": {
          "base_uri": "https://localhost:8080/"
        },
        "id": "FRSQK0JlfLmN",
        "outputId": "33dafa34-f8ea-49c4-9ec8-a98ec17d1420"
      },
      "source": [
        "x = np.array([[0, 3], [2, 2]])\n",
        "print('x is ',x)\n",
        "y = np.array([1,0]).reshape(1,2)\n",
        "print('y is :',y)\n",
        "print('sorted is :',x[:,y])"
      ],
      "execution_count": 7,
      "outputs": [
        {
          "output_type": "stream",
          "name": "stdout",
          "text": [
            "x is  [[0 3]\n",
            " [2 2]]\n",
            "y is : [[1 0]]\n",
            "sorted is : [[[3 0]]\n",
            "\n",
            " [[2 2]]]\n"
          ]
        }
      ]
    },
    {
      "cell_type": "code",
      "metadata": {
        "colab": {
          "base_uri": "https://localhost:8080/"
        },
        "id": "V8Y0ZW1rfQts",
        "outputId": "eae1ccc3-3e5f-46b3-9c5d-ac92f9a75fec"
      },
      "source": [
        "x = np.array([[0, 2], [1, 1], [2, 0]]).T\n",
        "print(x)\n",
        "print(np.cov(x,rowvar=False))\n",
        "#print(cov())"
      ],
      "execution_count": 8,
      "outputs": [
        {
          "output_type": "stream",
          "name": "stdout",
          "text": [
            "[[0 1 2]\n",
            " [2 1 0]]\n",
            "[[ 2.  0. -2.]\n",
            " [ 0.  0.  0.]\n",
            " [-2.  0.  2.]]\n"
          ]
        }
      ]
    },
    {
      "cell_type": "code",
      "metadata": {
        "colab": {
          "base_uri": "https://localhost:8080/"
        },
        "id": "8Fn2PV2-fUet",
        "outputId": "593b5fab-ab55-4cd2-fff1-fa9bd0d59b24"
      },
      "source": [
        "x = np.array([[0, 4], [0, 2]])\n",
        "print(x)\n",
        "print(np.mean(x,axis=0))"
      ],
      "execution_count": 9,
      "outputs": [
        {
          "output_type": "stream",
          "name": "stdout",
          "text": [
            "[[0 4]\n",
            " [0 2]]\n",
            "[0. 3.]\n"
          ]
        }
      ]
    },
    {
      "cell_type": "code",
      "metadata": {
        "colab": {
          "base_uri": "https://localhost:8080/"
        },
        "id": "Xkq_aDsmfWek",
        "outputId": "d93076a8-c733-4208-9063-368d38ede19f"
      },
      "source": [
        "# Testing your function\n",
        "np.random.seed(1)\n",
        "X = np.random.rand(3, 10)\n",
        "X_reduced = compute_pca(X, n_components=2)\n",
        "print(\"Your original matrix was \" + str(X.shape) + \" and it became:\")\n",
        "print(X_reduced)\n",
        "print(X_reduced.shape)"
      ],
      "execution_count": 10,
      "outputs": [
        {
          "output_type": "stream",
          "name": "stdout",
          "text": [
            "covariance_matrix shape is: (10, 10)\n",
            "[[ 4.88046950e-02  3.38429177e-02  2.70410354e-02  1.33348089e-02\n",
            "   1.00609001e-01  6.57707762e-02 -2.75184938e-02 -5.25695002e-02\n",
            "  -1.27339493e-02  6.48227388e-02]\n",
            " [ 3.38429177e-02  2.38029956e-02  1.68919133e-02  3.98205302e-03\n",
            "   7.08994547e-02  4.03429340e-02 -2.12082910e-02 -3.84257778e-02\n",
            "  -6.48868839e-03  4.80954113e-02]\n",
            " [ 2.70410354e-02  1.68919133e-02  2.52986469e-02  3.65993232e-02\n",
            "   4.94545211e-02  6.56528268e-02 -3.45131361e-03 -1.81844337e-02\n",
            "  -2.00468908e-02  1.84664070e-02]\n",
            " [ 1.33348089e-02  3.98205302e-03  3.65993232e-02  8.63566931e-02\n",
            "   9.67985927e-03  1.00685091e-01  2.58818405e-02  1.66212907e-02\n",
            "  -4.02656116e-02 -3.16988513e-02]\n",
            " [ 1.00609001e-01  7.08994547e-02  4.94545211e-02  9.67985927e-03\n",
            "   2.11236189e-01  1.17774282e-01 -6.39199532e-02 -1.15041459e-01\n",
            "  -1.83299257e-02  1.44268308e-01]\n",
            " [ 6.57707762e-02  4.03429340e-02  6.56528268e-02  1.00685091e-01\n",
            "   1.17774282e-01  1.71350909e-01 -3.68356893e-03 -3.98590657e-02\n",
            "  -5.39476528e-02  3.79461186e-02]\n",
            " [-2.75184938e-02 -2.12082910e-02 -3.45131361e-03  2.58818405e-02\n",
            "  -6.39199532e-02 -3.68356893e-03  2.90038970e-02  4.21533131e-02\n",
            "  -7.67476391e-03 -5.65027401e-02]\n",
            " [-5.25695002e-02 -3.84257778e-02 -1.81844337e-02  1.66212907e-02\n",
            "  -1.15041459e-01 -3.98590657e-02  4.21533131e-02  6.82317479e-02\n",
            "  -6.40769360e-05 -8.83324737e-02]\n",
            " [-1.27339493e-02 -6.48868839e-03 -2.00468908e-02 -4.02656116e-02\n",
            "  -1.83299257e-02 -5.39476528e-02 -7.67476391e-03 -6.40769360e-05\n",
            "   1.96830541e-02  5.06165683e-03]\n",
            " [ 6.48227388e-02  4.80954113e-02  1.84664070e-02 -3.16988513e-02\n",
            "   1.44268308e-01  3.79461186e-02 -5.65027401e-02 -8.83324737e-02\n",
            "   5.06165683e-03  1.15614106e-01]]\n",
            "Your original matrix was (3, 10) and it became:\n",
            "[[ 0.43437323  0.49820384]\n",
            " [ 0.42077249 -0.50351448]\n",
            " [-0.85514571  0.00531064]]\n",
            "(3, 2)\n"
          ]
        }
      ]
    }
  ]
}
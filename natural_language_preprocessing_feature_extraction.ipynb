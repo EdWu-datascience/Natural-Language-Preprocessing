{
  "nbformat": 4,
  "nbformat_minor": 0,
  "metadata": {
    "colab": {
      "name": "natural language preprocessing_feature extraction.ipynb",
      "provenance": [],
      "authorship_tag": "ABX9TyMIvM4vM4n0hufYhQkHt+Ck",
      "include_colab_link": true
    },
    "kernelspec": {
      "name": "python3",
      "display_name": "Python 3"
    },
    "language_info": {
      "name": "python"
    }
  },
  "cells": [
    {
      "cell_type": "markdown",
      "metadata": {
        "id": "view-in-github",
        "colab_type": "text"
      },
      "source": [
        "<a href=\"https://colab.research.google.com/github/EdWu-datascience/natural-language-proprecessing/blob/main/natural_language_preprocessing_feature_extraction.ipynb\" target=\"_parent\"><img src=\"https://colab.research.google.com/assets/colab-badge.svg\" alt=\"Open In Colab\"/></a>"
      ]
    },
    {
      "cell_type": "code",
      "metadata": {
        "id": "38wbpV4d22mZ"
      },
      "source": [
        "import nltk\n",
        "from nltk.corpus import twitter_samples"
      ],
      "execution_count": 1,
      "outputs": []
    },
    {
      "cell_type": "code",
      "metadata": {
        "id": "y5Rb192lZJjP"
      },
      "source": [
        "nltk.download(\"stopwords\")\n",
        "nltk.download(\"twitter_samples\")"
      ],
      "execution_count": null,
      "outputs": []
    },
    {
      "cell_type": "code",
      "metadata": {
        "colab": {
          "base_uri": "https://localhost:8080/"
        },
        "id": "Hdq_P_Ywa1dL",
        "outputId": "7095a136-2cc7-4132-d14b-7c50acc79369"
      },
      "source": [
        "all_pos = twitter_samples.strings('positive_tweets.json')\n",
        "all_neg = twitter_samples.strings('negative_tweets.json')\n",
        "print(type(all_pos))\n",
        "print(all_pos[0:10])\n",
        "tweets = all_pos+all_neg"
      ],
      "execution_count": 8,
      "outputs": [
        {
          "output_type": "stream",
          "name": "stdout",
          "text": [
            "<class 'list'>\n",
            "['#FollowFriday @France_Inte @PKuchly57 @Milipol_Paris for being top engaged members in my community this week :)', '@Lamb2ja Hey James! How odd :/ Please call our Contact Centre on 02392441234 and we will be able to assist you :) Many thanks!', '@DespiteOfficial we had a listen last night :) As You Bleed is an amazing track. When are you in Scotland?!', '@97sides CONGRATS :)', 'yeaaaah yippppy!!!  my accnt verified rqst has succeed got a blue tick mark on my fb profile :) in 15 days', '@BhaktisBanter @PallaviRuhail This one is irresistible :)\\n#FlipkartFashionFriday http://t.co/EbZ0L2VENM', \"We don't like to keep our lovely customers waiting for long! We hope you enjoy! Happy Friday! - LWWF :) https://t.co/smyYriipxI\", '@Impatientraider On second thought, there’s just not enough time for a DD :) But new shorts entering system. Sheep must be buying.', 'Jgh , but we have to go to Bayan :D bye', 'As an act of mischievousness, am calling the ETL layer of our in-house warehousing app Katamari.\\n\\nWell… as the name implies :p.']\n"
          ]
        }
      ]
    },
    {
      "cell_type": "code",
      "metadata": {
        "colab": {
          "base_uri": "https://localhost:8080/"
        },
        "id": "VMCcaJ4rbavX",
        "outputId": "8388240d-bab8-4f57-ac3f-3515260c45e0"
      },
      "source": [
        "#lets label pos as 1 and neg as 0\n",
        "import numpy as np\n",
        "pos = np.ones(len(all_pos))\n",
        "neg = np.zeros(len(all_neg))\n",
        "label = np.append(pos,neg)\n",
        "print(type(label))\n",
        "print(len(label))\n",
        "print(label)"
      ],
      "execution_count": 15,
      "outputs": [
        {
          "output_type": "stream",
          "name": "stdout",
          "text": [
            "<class 'numpy.ndarray'>\n",
            "10000\n",
            "[1. 1. 1. ... 0. 0. 0.]\n"
          ]
        }
      ]
    },
    {
      "cell_type": "code",
      "metadata": {
        "id": "UZ2SH-aIjYkG"
      },
      "source": [
        "def process_tweet(tweet):\n",
        "  import nltk \n",
        "  from nltk.corpus import stopwords\n",
        "  import re \n",
        "  from nltk.tokenize import TweetTokenizer\n",
        "  import string \n",
        "  from nltk.stem import PorterStemmer\n",
        "  #nltk.download('stopwords')\n",
        "  #remove url\n",
        "  tweet = re.sub(r'https?:\\/\\/.*[\\r\\n]*','',tweet)\n",
        "  # remove the '@' letter from string\n",
        "  tweet = re.sub(r'@','',tweet)\n",
        "  #remove stopwords\n",
        "  toke = TweetTokenizer()\n",
        "  tweet = toke.tokenize(tweet)\n",
        "  stopword = list(stopwords.words('english'))\n",
        "  tweet_filtered = []\n",
        "  for L in tweet:\n",
        "    if L not in stopword:\n",
        "      tweet_filtered.append(L)\n",
        "  tweet_pun = []\n",
        "  #remove punctuation\n",
        "  punctuation=string.punctuation\n",
        "  for P in tweet_filtered:\n",
        "    if P not in punctuation:\n",
        "      tweet_pun.append(P)\n",
        "  STEM = PorterStemmer()\n",
        "  tweet_processed = []\n",
        "  for L in tweet_pun:\n",
        "    word = STEM.stem(L)\n",
        "    tweet_processed.append(word)\n",
        "  return tweet_processed"
      ],
      "execution_count": 51,
      "outputs": []
    },
    {
      "cell_type": "code",
      "metadata": {
        "id": "ylUe_8iMcwPe"
      },
      "source": [
        "#they have inner frequency count function but we will build our own \n",
        "def build_fre(tweets,label):\n",
        "  fre = {}\n",
        "  #zip() function could used to pair elements of corresponding objects into tuple\n",
        "  for label,tweet in zip(label,tweets):\n",
        "    for L in process_tweet(tweet):\n",
        "      pair = (L,label)\n",
        "      if pair in fre:\n",
        "        fre[pair]+=1\n",
        "      else:\n",
        "        fre[pair]=1\n",
        "  return fre "
      ],
      "execution_count": 47,
      "outputs": []
    },
    {
      "cell_type": "code",
      "metadata": {
        "id": "SCn8Z48Te0e0"
      },
      "source": [
        "fre = build_fre(tweets,label)"
      ],
      "execution_count": 52,
      "outputs": []
    },
    {
      "cell_type": "code",
      "metadata": {
        "colab": {
          "base_uri": "https://localhost:8080/"
        },
        "id": "KqQGaIshjLwg",
        "outputId": "47f9632d-d43a-4c73-ae58-7eae700f8d7d"
      },
      "source": [
        "i = 0\n",
        "for key in fre:\n",
        "  print(key)\n",
        "  print(fre[key])\n",
        "  if i == 100:\n",
        "    break \n",
        "  else:\n",
        "    i = i + 1"
      ],
      "execution_count": 96,
      "outputs": [
        {
          "output_type": "stream",
          "name": "stdout",
          "text": [
            "('#followfriday', 1.0)\n",
            "25\n",
            "('france_int', 1.0)\n",
            "1\n",
            "('pkuchli', 1.0)\n",
            "1\n",
            "('57', 1.0)\n",
            "2\n",
            "('milipol_pari', 1.0)\n",
            "1\n",
            "('top', 1.0)\n",
            "32\n",
            "('engag', 1.0)\n",
            "7\n",
            "('member', 1.0)\n",
            "16\n",
            "('commun', 1.0)\n",
            "32\n",
            "('week', 1.0)\n",
            "83\n",
            "(':)', 1.0)\n",
            "3568\n",
            "('lamb', 1.0)\n",
            "1\n",
            "('2ja', 1.0)\n",
            "1\n",
            "('hey', 1.0)\n",
            "76\n",
            "('jame', 1.0)\n",
            "7\n",
            "('how', 1.0)\n",
            "24\n",
            "('odd', 1.0)\n",
            "2\n",
            "(':/', 1.0)\n",
            "5\n",
            "('pleas', 1.0)\n",
            "97\n",
            "('call', 1.0)\n",
            "37\n",
            "('contact', 1.0)\n",
            "7\n",
            "('centr', 1.0)\n",
            "2\n",
            "('02392441234', 1.0)\n",
            "1\n",
            "('abl', 1.0)\n",
            "8\n",
            "('assist', 1.0)\n",
            "1\n",
            "('mani', 1.0)\n",
            "33\n",
            "('thank', 1.0)\n",
            "620\n",
            "('despiteoffici', 1.0)\n",
            "1\n",
            "('listen', 1.0)\n",
            "16\n",
            "('last', 1.0)\n",
            "47\n",
            "('night', 1.0)\n",
            "68\n",
            "('As', 1.0)\n",
            "5\n",
            "('you', 1.0)\n",
            "123\n",
            "('bleed', 1.0)\n",
            "2\n",
            "('amaz', 1.0)\n",
            "51\n",
            "('track', 1.0)\n",
            "5\n",
            "('when', 1.0)\n",
            "14\n",
            "('scotland', 1.0)\n",
            "2\n",
            "('97side', 1.0)\n",
            "1\n",
            "('congrat', 1.0)\n",
            "21\n",
            "('yeaaaah', 1.0)\n",
            "1\n",
            "('yippppi', 1.0)\n",
            "1\n",
            "('accnt', 1.0)\n",
            "2\n",
            "('verifi', 1.0)\n",
            "2\n",
            "('rqst', 1.0)\n",
            "1\n",
            "('succeed', 1.0)\n",
            "1\n",
            "('got', 1.0)\n",
            "68\n",
            "('blue', 1.0)\n",
            "9\n",
            "('tick', 1.0)\n",
            "1\n",
            "('mark', 1.0)\n",
            "2\n",
            "('fb', 1.0)\n",
            "1\n",
            "('profil', 1.0)\n",
            "2\n",
            "('15', 1.0)\n",
            "8\n",
            "('day', 1.0)\n",
            "245\n",
            "('bhaktisbant', 1.0)\n",
            "17\n",
            "('pallaviruhail', 1.0)\n",
            "8\n",
            "('thi', 1.0)\n",
            "41\n",
            "('one', 1.0)\n",
            "129\n",
            "('irresist', 1.0)\n",
            "2\n",
            "('#flipkartfashionfriday', 1.0)\n",
            "17\n",
            "('We', 1.0)\n",
            "77\n",
            "('like', 1.0)\n",
            "232\n",
            "('keep', 1.0)\n",
            "68\n",
            "('love', 1.0)\n",
            "397\n",
            "('custom', 1.0)\n",
            "4\n",
            "('wait', 1.0)\n",
            "69\n",
            "('long', 1.0)\n",
            "36\n",
            "('hope', 1.0)\n",
            "141\n",
            "('enjoy', 1.0)\n",
            "74\n",
            "('happi', 1.0)\n",
            "205\n",
            "('friday', 1.0)\n",
            "104\n",
            "('lwwf', 1.0)\n",
            "1\n",
            "('impatientraid', 1.0)\n",
            "1\n",
            "('On', 1.0)\n",
            "11\n",
            "('second', 1.0)\n",
            "10\n",
            "('thought', 1.0)\n",
            "29\n",
            "('’', 1.0)\n",
            "21\n",
            "('enough', 1.0)\n",
            "18\n",
            "('time', 1.0)\n",
            "127\n",
            "('DD', 1.0)\n",
            "1\n",
            "('but', 1.0)\n",
            "35\n",
            "('new', 1.0)\n",
            "150\n",
            "('short', 1.0)\n",
            "7\n",
            "('enter', 1.0)\n",
            "9\n",
            "('system', 1.0)\n",
            "2\n",
            "('sheep', 1.0)\n",
            "1\n",
            "('must', 1.0)\n",
            "18\n",
            "('buy', 1.0)\n",
            "11\n",
            "('jgh', 1.0)\n",
            "3\n",
            "('go', 1.0)\n",
            "137\n",
            "('bayan', 1.0)\n",
            "1\n",
            "(':D', 1.0)\n",
            "629\n",
            "('bye', 1.0)\n",
            "7\n",
            "('act', 1.0)\n",
            "8\n",
            "('mischiev', 1.0)\n",
            "1\n",
            "('etl', 1.0)\n",
            "1\n",
            "('layer', 1.0)\n",
            "1\n",
            "('in-hous', 1.0)\n",
            "1\n",
            "('wareh', 1.0)\n",
            "1\n",
            "('app', 1.0)\n",
            "16\n",
            "('katamari', 1.0)\n",
            "1\n"
          ]
        }
      ]
    },
    {
      "cell_type": "code",
      "metadata": {
        "colab": {
          "base_uri": "https://localhost:8080/"
        },
        "id": "QiWzbcgNofaa",
        "outputId": "af72c74b-5b83-46f6-d462-acb7a447517c"
      },
      "source": [
        "#lets test some keys\n",
        "keys = ['happi', 'merri', 'nice', 'good', 'bad', 'sad', 'mad', 'best', 'pretti',\n",
        "         ':)', ':(','hate',\n",
        "        'song', 'idea', 'top', 'play', 'magnific']\n",
        "data = []\n",
        "for key in keys:\n",
        "  pos = 0\n",
        "  neg = 0\n",
        "  if (key,1.0) in fre:\n",
        "    pos = fre[(key,1.0)]\n",
        "  if (key,0.0) in fre:\n",
        "    neg = fre[(key,0.0)]\n",
        "  data.append([key,pos,neg])\n",
        "print(data)"
      ],
      "execution_count": 65,
      "outputs": [
        {
          "output_type": "stream",
          "name": "stdout",
          "text": [
            "[['happi', 205, 25], ['merri', 1, 0], ['nice', 98, 19], ['good', 238, 101], ['bad', 18, 68], ['sad', 5, 121], ['mad', 2, 11], ['best', 65, 22], ['pretti', 19, 15], [':)', 3568, 2], [':(', 1, 4571], ['hate', 13, 57], ['song', 21, 27], ['idea', 26, 10], ['top', 32, 6], ['play', 46, 48], ['magnific', 1, 0]]\n"
          ]
        }
      ]
    },
    {
      "cell_type": "code",
      "metadata": {
        "colab": {
          "base_uri": "https://localhost:8080/",
          "height": 575
        },
        "id": "-FtLg2_Wpr-3",
        "outputId": "a09dab01-4e27-4db9-e462-6e0e21f46cae"
      },
      "source": [
        "import matplotlib.pyplot as plt\n",
        "#ax指的是子图对象\n",
        "fig,ax = plt.subplots(figsize=(8,8))\n",
        "#we use x represent positive, y represent negative\n",
        "x = []\n",
        "y = []\n",
        "name = []\n",
        "for I in data:\n",
        "  x.append(np.log(I[1]+1))\n",
        "  y.append(np.log(I[2]+1))\n",
        "  name.append(I[0])\n",
        "\n",
        "print(x)\n",
        "print(y)\n",
        "print(name)\n",
        "ax.scatter(x,y)\n",
        "for i,txt in enumerate(name):\n",
        "  ax.annotate(txt,(x[i],y[i]))\n",
        "a = list(range(9))\n",
        "b = list(range(9))\n",
        "plt.plot(a,b)\n"
      ],
      "execution_count": 87,
      "outputs": [
        {
          "output_type": "stream",
          "name": "stdout",
          "text": [
            "[5.327876168789581, 0.6931471805599453, 4.59511985013459, 5.476463551931511, 2.9444389791664403, 1.791759469228055, 1.0986122886681098, 4.189654742026425, 2.995732273553991, 8.18004072349016, 0.6931471805599453, 2.6390573296152584, 3.091042453358316, 3.295836866004329, 3.4965075614664802, 3.8501476017100584, 0.6931471805599453]\n",
            "[3.258096538021482, 0.0, 2.995732273553991, 4.624972813284271, 4.23410650459726, 4.804021044733257, 2.4849066497880004, 3.1354942159291497, 2.772588722239781, 1.0986122886681098, 8.427706024914702, 4.060443010546419, 3.332204510175204, 2.3978952727983707, 1.9459101490553132, 3.8918202981106265, 0.0]\n",
            "['happi', 'merri', 'nice', 'good', 'bad', 'sad', 'mad', 'best', 'pretti', ':)', ':(', 'hate', 'song', 'idea', 'top', 'play', 'magnific']\n"
          ]
        },
        {
          "output_type": "execute_result",
          "data": {
            "text/plain": [
              "[<matplotlib.lines.Line2D at 0x7f682a5d5410>]"
            ]
          },
          "metadata": {},
          "execution_count": 87
        },
        {
          "output_type": "display_data",
          "data": {
            "image/png": "[encoded data removed]",
            "text/plain": [
              "<Figure size 576x576 with 1 Axes>"
            ]
          },
          "metadata": {
            "needs_background": "light"
          }
        }
      ]
    }
  ]
}
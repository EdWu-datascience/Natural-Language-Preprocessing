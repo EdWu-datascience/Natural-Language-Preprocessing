{
  "cells": [
    {
      "cell_type": "markdown",
      "metadata": {
        "id": "wmpodQkfokCX"
      },
      "source": [
        "## Import packages\n",
        "Make sure you installed ***sklearn***, ***matplotlib*** and ***numpy*** if you use your local machine"
      ]
    },
    {
      "cell_type": "code",
      "execution_count": 1,
      "metadata": {
        "id": "gxD_3fs1tX_E"
      },
      "outputs": [],
      "source": [
        "import matplotlib.pyplot as plt\n",
        "import numpy as np\n",
        "import sklearn\n",
        "from sklearn import datasets\n",
        "from sklearn.ensemble import RandomForestClassifier\n",
        "from sklearn.feature_extraction.text import CountVectorizer\n",
        "from sklearn.linear_model import LogisticRegression\n",
        "from sklearn.metrics import confusion_matrix, precision_score, precision_recall_curve, recall_score, f1_score\n",
        "from sklearn.naive_bayes import MultinomialNB\n",
        "from sklearn.svm import SVC"
      ]
    },
    {
      "cell_type": "markdown",
      "metadata": {
        "id": "U0vF7uNdox7d"
      },
      "source": [
        "## Prepare dataset\n",
        "The 20 newsgroups text dataset: [Details](http://scikit-learn.org/stable/datasets/twenty_newsgroups.html)"
      ]
    },
    {
      "cell_type": "code",
      "execution_count": 2,
      "metadata": {
        "id": "CPSdjUHDoSnf"
      },
      "outputs": [],
      "source": [
        "dataset = sklearn.datasets.fetch_20newsgroups()"
      ]
    },
    {
      "cell_type": "markdown",
      "metadata": {
        "id": "vjcfft1TrVn-"
      },
      "source": [
        "### See some examples and classes"
      ]
    },
    {
      "cell_type": "code",
      "execution_count": 3,
      "metadata": {
        "colab": {
          "base_uri": "https://localhost:8080/"
        },
        "id": "kdAbjYQH_IvG",
        "outputId": "cfeec458-be76-466f-dc35-225f6487c6b0"
      },
      "outputs": [
        {
          "output_type": "stream",
          "name": "stdout",
          "text": [
            "From: lerxst@wam.umd.edu (where's my thing)\n",
            "Subject: WHAT car is this!?\n",
            "Nntp-Posting-Host: rac3.wam.umd.edu\n",
            "Organization: University of Maryland, College Park\n",
            "Lines: 15\n",
            "\n",
            " I was wondering if anyone out there could enlighten me on this car I saw\n",
            "the other day. It was a 2-door sports car, looked to be from the late 60s/\n",
            "early 70s. It was called a Bricklin. The doors were really small. In addition,\n",
            "the front bumper was separate from the rest of the body. This is \n",
            "all I know. If anyone can tellme a model name, engine specs, years\n",
            "of production, where this car is made, history, or whatever info you\n",
            "have on this funky looking car, please e-mail.\n",
            "\n",
            "Thanks,\n",
            "- IL\n",
            "   ---- brought to you by your neighborhood Lerxst ----\n",
            "\n",
            "\n",
            "\n",
            "\n",
            "\n",
            "From: guykuo@carson.u.washington.edu (Guy Kuo)\n",
            "Subject: SI Clock Poll - Final Call\n",
            "Summary: Final call for SI clock reports\n",
            "Keywords: SI,acceleration,clock,upgrade\n",
            "Article-I.D.: shelley.1qvfo9INNc3s\n",
            "Organization: University of Washington\n",
            "Lines: 11\n",
            "NNTP-Posting-Host: carson.u.washington.edu\n",
            "\n",
            "A fair number of brave souls who upgraded their SI clock oscillator have\n",
            "shared their experiences for this poll. Please send a brief message detailing\n",
            "your experiences with the procedure. Top speed attained, CPU rated speed,\n",
            "add on cards and adapters, heat sinks, hour of usage per day, floppy disk\n",
            "functionality with 800 and 1.4 m floppies are especially requested.\n",
            "\n",
            "I will be summarizing in the next two days, so please add to the network\n",
            "knowledge base if you have done the clock upgrade and haven't answered this\n",
            "poll. Thanks.\n",
            "\n",
            "Guy Kuo <guykuo@u.washington.edu>\n",
            "\n",
            "From: jgreen@amber (Joe Green)\n",
            "Subject: Re: Weitek P9000 ?\n",
            "Organization: Harris Computer Systems Division\n",
            "Lines: 14\n",
            "Distribution: world\n",
            "NNTP-Posting-Host: amber.ssd.csd.harris.com\n",
            "X-Newsreader: TIN [version 1.1 PL9]\n",
            "\n",
            "Robert J.C. Kyanko (rob@rjck.UUCP) wrote:\n",
            "> abraxis@iastate.edu writes in article <abraxis.734340159@class1.iastate.edu>:\n",
            "> > Anyone know about the Weitek P9000 graphics chip?\n",
            "> As far as the low-level stuff goes, it looks pretty nice.  It's got this\n",
            "> quadrilateral fill command that requires just the four points.\n",
            "\n",
            "Do you have Weitek's address/phone number?  I'd like to get some information\n",
            "about this chip.\n",
            "\n",
            "--\n",
            "Joe Green\t\t\t\tHarris Corporation\n",
            "jgreen@csd.harris.com\t\t\tComputer Systems Division\n",
            "\"The only thing that really scares me is a person with no sense of humor.\"\n",
            "\t\t\t\t\t\t-- Jonathan Winters\n",
            "\n"
          ]
        }
      ],
      "source": [
        "print(dataset.data[0])\n",
        "print(dataset.data[1])\n",
        "print(dataset.data[3])"
      ]
    },
    {
      "cell_type": "code",
      "execution_count": 4,
      "metadata": {
        "colab": {
          "base_uri": "https://localhost:8080/"
        },
        "id": "fAksBXutsDbA",
        "outputId": "9feea750-4bd1-4441-90ca-4d59548b76ba"
      },
      "outputs": [
        {
          "output_type": "execute_result",
          "data": {
            "text/plain": [
              "['alt.atheism',\n",
              " 'comp.graphics',\n",
              " 'comp.os.ms-windows.misc',\n",
              " 'comp.sys.ibm.pc.hardware',\n",
              " 'comp.sys.mac.hardware',\n",
              " 'comp.windows.x',\n",
              " 'misc.forsale',\n",
              " 'rec.autos',\n",
              " 'rec.motorcycles',\n",
              " 'rec.sport.baseball',\n",
              " 'rec.sport.hockey',\n",
              " 'sci.crypt',\n",
              " 'sci.electronics',\n",
              " 'sci.med',\n",
              " 'sci.space',\n",
              " 'soc.religion.christian',\n",
              " 'talk.politics.guns',\n",
              " 'talk.politics.mideast',\n",
              " 'talk.politics.misc',\n",
              " 'talk.religion.misc']"
            ]
          },
          "metadata": {},
          "execution_count": 4
        }
      ],
      "source": [
        "dataset.target_names"
      ]
    },
    {
      "cell_type": "markdown",
      "metadata": {
        "id": "Ozf7I_JxabrV"
      },
      "source": [
        "## Count Vectorizer\n",
        "Convert a list of text documents to a matrix of token (word) frequencies ([Details](http://scikit-learn.org/stable/modules/generated/sklearn.feature_extraction.text.CountVectorizer.html))\n",
        "\n",
        "Example"
      ]
    },
    {
      "cell_type": "code",
      "execution_count": 5,
      "metadata": {
        "id": "W_SVr6Px_IvI"
      },
      "outputs": [],
      "source": [
        "example_docs=[\n",
        "       \"One Cent, Two Cents, Old Cent, New Cent: All About Money (Cat in the Hat's Learning Library\",\n",
        "       \"Inside Your Outside: All About the Human Body (Cat in the Hat's Learning Library)\",\n",
        "       \"Oh, The Things You Can Do That Are Good for You: All About Staying Healthy (Cat in the Hat's Learning Library)\",\n",
        "       \"On Beyond Bugs: All About Insects (Cat in the Hat's Learning Library)\",\n",
        "       \"There's No Place Like Space: All About Our Solar System (Cat in the Hat's Learning Library)\" \n",
        "      ]"
      ]
    },
    {
      "cell_type": "code",
      "execution_count": 6,
      "metadata": {
        "colab": {
          "base_uri": "https://localhost:8080/"
        },
        "id": "8pvZbkR3_IvJ",
        "outputId": "184e568f-ec19-4dc0-fb9d-7e8287cb3256"
      },
      "outputs": [
        {
          "output_type": "execute_result",
          "data": {
            "text/plain": [
              "CountVectorizer()"
            ]
          },
          "metadata": {},
          "execution_count": 6
        }
      ],
      "source": [
        "#Create the transform\n",
        "vectorizer = CountVectorizer()\n",
        "\n",
        "#Tokenize and build vocab\n",
        "vectorizer.fit(example_docs)"
      ]
    },
    {
      "cell_type": "code",
      "execution_count": 7,
      "metadata": {
        "colab": {
          "base_uri": "https://localhost:8080/"
        },
        "id": "WH4CO41d_IvJ",
        "outputId": "1a975ae7-18e2-48f0-fd56-27008ea9f7f8"
      },
      "outputs": [
        {
          "output_type": "stream",
          "name": "stdout",
          "text": [
            "{'one': 28, 'cent': 8, 'two': 40, 'cents': 9, 'old': 26, 'new': 23, 'all': 1, 'about': 0, 'money': 22, 'cat': 7, 'in': 16, 'the': 37, 'hat': 13, 'learning': 19, 'library': 20, 'inside': 18, 'your': 42, 'outside': 30, 'human': 15, 'body': 4, 'oh': 25, 'things': 39, 'you': 41, 'can': 6, 'do': 10, 'that': 36, 'are': 2, 'good': 12, 'for': 11, 'staying': 34, 'healthy': 14, 'on': 27, 'beyond': 3, 'bugs': 5, 'insects': 17, 'there': 38, 'no': 24, 'place': 31, 'like': 21, 'space': 33, 'our': 29, 'solar': 32, 'system': 35}\n"
          ]
        }
      ],
      "source": [
        "#Summarize\n",
        "print(vectorizer.vocabulary_)"
      ]
    },
    {
      "cell_type": "code",
      "execution_count": null,
      "metadata": {
        "id": "a1MWnlg5_IvK"
      },
      "outputs": [],
      "source": [
        "### Create vector representation of documents"
      ]
    },
    {
      "cell_type": "code",
      "execution_count": 8,
      "metadata": {
        "scrolled": true,
        "colab": {
          "base_uri": "https://localhost:8080/"
        },
        "id": "gwbnkWRh_IvK",
        "outputId": "68dcbc57-fd47-4ff5-8ed4-082855c8bcf6"
      },
      "outputs": [
        {
          "output_type": "stream",
          "name": "stdout",
          "text": [
            "[[1 1 0 0 0 0 0 1 3 1 0 0 0 1 0 0 1 0 0 1 1 0 1 1 0 0 1 0 1 0 0 0 0 0 0 0\n",
            "  0 1 0 0 1 0 0]\n",
            " [1 1 0 0 1 0 0 1 0 0 0 0 0 1 0 1 1 0 1 1 1 0 0 0 0 0 0 0 0 0 1 0 0 0 0 0\n",
            "  0 2 0 0 0 0 1]\n",
            " [1 1 1 0 0 0 1 1 0 0 1 1 1 1 1 0 1 0 0 1 1 0 0 0 0 1 0 0 0 0 0 0 0 0 1 0\n",
            "  1 2 0 1 0 2 0]\n",
            " [1 1 0 1 0 1 0 1 0 0 0 0 0 1 0 0 1 1 0 1 1 0 0 0 0 0 0 1 0 0 0 0 0 0 0 0\n",
            "  0 1 0 0 0 0 0]\n",
            " [1 1 0 0 0 0 0 1 0 0 0 0 0 1 0 0 1 0 0 1 1 1 0 0 1 0 0 0 0 1 0 1 1 1 0 1\n",
            "  0 1 1 0 0 0 0]]\n"
          ]
        }
      ],
      "source": [
        "X = vectorizer.transform(example_docs)\n",
        "print(X.toarray())"
      ]
    },
    {
      "cell_type": "code",
      "execution_count": null,
      "metadata": {
        "id": "My4YLgjQ_IvK"
      },
      "outputs": [],
      "source": [
        "## Plot Histogram"
      ]
    },
    {
      "cell_type": "code",
      "execution_count": 9,
      "metadata": {
        "id": "GVQY6rN3_IvL",
        "colab": {
          "base_uri": "https://localhost:8080/",
          "height": 279
        },
        "outputId": "3af885c8-0723-49ad-d9d8-c26be7250d80"
      },
      "outputs": [
        {
          "output_type": "display_data",
          "data": {
            "text/plain": [
              "<Figure size 432x288 with 1 Axes>"
            ],
            "image/png": "[encoded data removed]"
          },
          "metadata": {
            "needs_background": "light"
          }
        }
      ],
      "source": [
        "sum_mat = np.sum(X, axis=0)\n",
        "freqs = np.sort(sum_mat).T[::-1]\n",
        "plt.plot(list(range(1, sum_mat.shape[1] + 1)), freqs)\n",
        "plt.xlabel('Rank')\n",
        "plt.ylabel('Frequency')\n",
        "plt.show()"
      ]
    },
    {
      "cell_type": "code",
      "execution_count": 10,
      "metadata": {
        "id": "g3rDm2P8_IvL",
        "colab": {
          "base_uri": "https://localhost:8080/",
          "height": 283
        },
        "outputId": "b416afb5-b9f1-4ad4-cbc1-7803b641848d"
      },
      "outputs": [
        {
          "output_type": "display_data",
          "data": {
            "text/plain": [
              "<Figure size 432x288 with 1 Axes>"
            ],
            "image/png": "[encoded data removed]"
          },
          "metadata": {
            "needs_background": "light"
          }
        }
      ],
      "source": [
        "plt.loglog(list(range(1, sum_mat.shape[1] + 1)), freqs)\n",
        "plt.xlabel('Rank')\n",
        "plt.ylabel('Frequency')\n",
        "plt.show()"
      ]
    },
    {
      "cell_type": "markdown",
      "metadata": {
        "id": "HgUadu4Y_IvM"
      },
      "source": [
        "## Count Vectorizer\n",
        "- load a scikit-learn dataset (20 newsgroups)\n",
        "- run count vectorizer on it\n",
        "- plot histograms of counts etc.\n",
        "- vary the parameters of Cvectorizer, show how histograms change"
      ]
    },
    {
      "cell_type": "markdown",
      "metadata": {
        "id": "OFJVuvK5rNGl"
      },
      "source": [
        "### Split into train and test datasets\n",
        "Here, 70% of the original data are used for training models, and the rest are for test"
      ]
    },
    {
      "cell_type": "code",
      "execution_count": 11,
      "metadata": {
        "id": "VRawyKlArLYF"
      },
      "outputs": [],
      "source": [
        "class Dataset:\n",
        "  def __init__(self, dataset, start_idx, end_idx):\n",
        "    self.data = dataset.data[start_idx:end_idx]\n",
        "    self.labels = dataset.target[start_idx:end_idx]\n",
        "    self.vecs = None\n",
        "\n",
        "    \n",
        "def split_dataset(dataset, train_rate=0.7):\n",
        "  data_size = len(dataset.data)\n",
        "  train_last_idx = int(train_rate * data_size)\n",
        "  train = Dataset(dataset, 0, train_last_idx)\n",
        "  test = Dataset(dataset, train_last_idx, data_size)\n",
        "  return train, test"
      ]
    },
    {
      "cell_type": "code",
      "execution_count": 12,
      "metadata": {
        "colab": {
          "base_uri": "https://localhost:8080/"
        },
        "id": "QMUKgxbyvQOB",
        "outputId": "f95c1a61-993e-45df-ef96-4e0eb163994f"
      },
      "outputs": [
        {
          "output_type": "stream",
          "name": "stdout",
          "text": [
            "train data size: 7919\n",
            "test data size: 3395\n"
          ]
        }
      ],
      "source": [
        "train, test = split_dataset(dataset)\n",
        "print('train data size:', len(train.data))\n",
        "print('test data size:', len(test.data))"
      ]
    },
    {
      "cell_type": "code",
      "source": [
        "train"
      ],
      "metadata": {
        "colab": {
          "base_uri": "https://localhost:8080/"
        },
        "id": "bi181-BSlTUS",
        "outputId": "c490e15f-2fe2-4631-fb94-cc2b3a0d655f"
      },
      "execution_count": 29,
      "outputs": [
        {
          "output_type": "execute_result",
          "data": {
            "text/plain": [
              "<__main__.Dataset at 0x7f639761b6d0>"
            ]
          },
          "metadata": {},
          "execution_count": 29
        }
      ]
    },
    {
      "cell_type": "markdown",
      "metadata": {
        "id": "6KKlKxec_IvN"
      },
      "source": [
        "### Create the vector representation of training and testing data"
      ]
    },
    {
      "cell_type": "code",
      "execution_count": 102,
      "metadata": {
        "id": "BHGi7l_g_IvN"
      },
      "outputs": [],
      "source": [
        "#Encode documents\n",
        "#default parameters\n",
        "vectorizer = CountVectorizer(stop_words='english')\n",
        "vectorizer.fit(train.data)\n",
        "train.vecs = vectorizer.transform(train.data)\n",
        "test.vecs = vectorizer.transform(test.data)"
      ]
    },
    {
      "cell_type": "code",
      "source": [
        "#Adjusted parameters\n"
      ],
      "metadata": {
        "id": "an_WfuRlzKhm"
      },
      "execution_count": null,
      "outputs": []
    },
    {
      "cell_type": "markdown",
      "metadata": {
        "id": "0l2P7B7HxFgm"
      },
      "source": [
        "### Convert word to index and vice versa"
      ]
    },
    {
      "cell_type": "code",
      "execution_count": 103,
      "metadata": {
        "id": "Jti4MuGTxEQa"
      },
      "outputs": [],
      "source": [
        "def word2idx(word, vocab_dict):\n",
        "  index = vocab_dict[word] if word in vocab_dict.keys() else 'Not Found'\n",
        "  print(word, ' -> ', index)\n",
        "\n",
        "\n",
        "def idx2word(index, vocabs):\n",
        "  word = vocabs[index] if 0 <= index < len(vocabs) else 'Not Found'\n",
        "  print(index, ' -> ', word)"
      ]
    },
    {
      "cell_type": "code",
      "execution_count": 104,
      "metadata": {
        "colab": {
          "base_uri": "https://localhost:8080/"
        },
        "id": "K1qiwx8xyslo",
        "outputId": "a6dd64cb-ef6c-4179-d295-446acc8c36c1"
      },
      "outputs": [
        {
          "output_type": "stream",
          "name": "stdout",
          "text": [
            "display  ->  38892\n",
            "4926  ->  1938\n",
            "google  ->  Not Found\n",
            "1  ->  000\n"
          ]
        },
        {
          "output_type": "stream",
          "name": "stderr",
          "text": [
            "/usr/local/lib/python3.7/dist-packages/sklearn/utils/deprecation.py:87: FutureWarning: Function get_feature_names is deprecated; get_feature_names is deprecated in 1.0 and will be removed in 1.2. Please use get_feature_names_out instead.\n",
            "  warnings.warn(msg, category=FutureWarning)\n"
          ]
        }
      ],
      "source": [
        "vocab_dict = vectorizer.vocabulary_\n",
        "vocabs = vectorizer.get_feature_names()\n",
        "\n",
        "word2idx('display', vocab_dict)\n",
        "idx2word(4926, vocabs)\n",
        "\n",
        "word2idx('google', vocab_dict)\n",
        "idx2word(1, vocabs)"
      ]
    },
    {
      "cell_type": "markdown",
      "metadata": {
        "id": "L8Ga3BoD4Xs6"
      },
      "source": [
        "### See vocaburary size"
      ]
    },
    {
      "cell_type": "code",
      "execution_count": 105,
      "metadata": {
        "colab": {
          "base_uri": "https://localhost:8080/"
        },
        "id": "GZgwRHrS4juy",
        "outputId": "2a037bc2-c04e-477e-e8d3-4a0cfbd74909"
      },
      "outputs": [
        {
          "output_type": "stream",
          "name": "stdout",
          "text": [
            "Vocaburary Size: 106902\n"
          ]
        }
      ],
      "source": [
        "print('Vocaburary Size:', len(vocab_dict))"
      ]
    },
    {
      "cell_type": "code",
      "execution_count": 106,
      "metadata": {
        "id": "6uWu-D1R6Dqo"
      },
      "outputs": [],
      "source": [
        "def sentence2vec(sentence, vectorizer):\n",
        "  vec = vectorizer.transform([sentence])\n",
        "  vocabs = vectorizer.get_feature_names()\n",
        "  print('\\\"', sentence, '\\\" -> ')\n",
        "  print(vec)\n",
        "  for idx in vec.indices:\n",
        "    print(idx, vocabs[idx])"
      ]
    },
    {
      "cell_type": "code",
      "execution_count": 107,
      "metadata": {
        "colab": {
          "base_uri": "https://localhost:8080/"
        },
        "id": "60kP-8IP7uzA",
        "outputId": "6aaee60e-630e-4f87-f30c-47205af87141"
      },
      "outputs": [
        {
          "output_type": "stream",
          "name": "stdout",
          "text": [
            "\" A fair fair number of brave \" -> \n",
            "  (0, 27857)\t1\n",
            "  (0, 44299)\t2\n",
            "  (0, 72384)\t1\n",
            "27857 brave\n",
            "44299 fair\n",
            "72384 number\n"
          ]
        },
        {
          "output_type": "stream",
          "name": "stderr",
          "text": [
            "/usr/local/lib/python3.7/dist-packages/sklearn/utils/deprecation.py:87: FutureWarning: Function get_feature_names is deprecated; get_feature_names is deprecated in 1.0 and will be removed in 1.2. Please use get_feature_names_out instead.\n",
            "  warnings.warn(msg, category=FutureWarning)\n"
          ]
        }
      ],
      "source": [
        "sentence2vec('A fair fair number of brave', vectorizer)"
      ]
    },
    {
      "cell_type": "code",
      "execution_count": 108,
      "metadata": {
        "colab": {
          "base_uri": "https://localhost:8080/"
        },
        "id": "gCEhKvGI_IvP",
        "outputId": "600520b0-defc-4edc-b241-0109031cc14a"
      },
      "outputs": [
        {
          "output_type": "stream",
          "name": "stdout",
          "text": [
            "anteaters  ->  Not Found\n"
          ]
        }
      ],
      "source": [
        "word2idx('anteaters', vocab_dict)"
      ]
    },
    {
      "cell_type": "code",
      "execution_count": 109,
      "metadata": {
        "colab": {
          "base_uri": "https://localhost:8080/",
          "height": 279
        },
        "id": "ChzQiXuseWwn",
        "outputId": "e235d26d-c7fb-4a30-a0b7-0405d9972734"
      },
      "outputs": [
        {
          "output_type": "display_data",
          "data": {
            "text/plain": [
              "<Figure size 432x288 with 1 Axes>"
            ],
            "image/png": "[encoded data removed]"
          },
          "metadata": {
            "needs_background": "light"
          }
        }
      ],
      "source": [
        "sum_mat = np.sum(train.vecs, axis=0)\n",
        "freqs = np.sort(sum_mat).T[::-1]\n",
        "plt.plot(list(range(1, sum_mat.shape[1] + 1)), freqs)\n",
        "plt.xlabel('Rank')\n",
        "plt.ylabel('Frequency')\n",
        "plt.show()"
      ]
    },
    {
      "cell_type": "code",
      "execution_count": 110,
      "metadata": {
        "colab": {
          "base_uri": "https://localhost:8080/",
          "height": 283
        },
        "id": "ep96T2k688q6",
        "outputId": "7e98c3b3-9b7f-465e-df3d-94471df2ab5c"
      },
      "outputs": [
        {
          "output_type": "display_data",
          "data": {
            "text/plain": [
              "<Figure size 432x288 with 1 Axes>"
            ],
            "image/png": "[encoded data removed]"
          },
          "metadata": {
            "needs_background": "light"
          }
        }
      ],
      "source": [
        "plt.loglog(list(range(1, sum_mat.shape[1] + 1)), freqs)\n",
        "plt.xlabel('Rank')\n",
        "plt.ylabel('Frequency')\n",
        "plt.show()"
      ]
    },
    {
      "cell_type": "markdown",
      "metadata": {
        "id": "YY6gRBCTWq-4"
      },
      "source": [
        "### Play with Vectorizer parameters\n",
        "Back to CountVectorizer() to try other values for the parameters.\n",
        "\n"
      ]
    },
    {
      "cell_type": "markdown",
      "metadata": {
        "id": "I6eoVMSoat33"
      },
      "source": [
        "## Classification\n",
        "\n",
        "- train and predict on train+test data\n",
        "- compute different metrics (train and test)\n",
        "- contigency table\n",
        "- compute PR curve\n",
        "- change parameters of CVectorizer, see how metrics/curves change\n",
        "- change parameters of classifier (like regularization), see how metrics/curves change.. like overfitting"
      ]
    },
    {
      "cell_type": "code",
      "execution_count": 111,
      "metadata": {
        "id": "KlT8JNM2SJbm"
      },
      "outputs": [],
      "source": [
        "def evaluate(preds, labels, print_details=True):\n",
        "  f1 = f1_score(labels, preds, average='micro')\n",
        "  if print_details:\n",
        "    print('Precision:', precision_score(labels, preds, average=None))  #Computes precision\n",
        "    print('Recall:', recall_score(labels, preds, average=None))        #Computes recall\n",
        "    print('F1 score:', f1_score(labels, preds, average=None))          #Computes f1_score\n",
        "  print('Avg. F1 score:', f1)\n",
        "  \n",
        "  \n",
        "def plot_confusion_matrix(preds, labels, class_size):\n",
        "  cnf_mat = confusion_matrix(labels, preds)                            #Computes confusion_matrix\n",
        "  cnf_mat = cnf_mat.astype('float') / cnf_mat.sum(axis=1)[:, np.newaxis]\n",
        "  plt.imshow(cnf_mat, interpolation='nearest', cmap=plt.cm.Blues)\n",
        "  plt.xticks(np.arange(class_size), np.arange(1, class_size + 1))\n",
        "  plt.yticks(np.arange(class_size), np.arange(1, class_size + 1))\n",
        "  plt.xlabel('True Label')\n",
        "  plt.ylabel('Predicted Label')\n",
        "  plt.title('Confusion Matrix')\n",
        "  plt.colorbar()\n",
        "  plt.show()\n",
        "  \n",
        "  \n",
        "def plot_pr_curves(probs, labels, class_size):\n",
        "  for i in range(class_size):\n",
        "    p,r,threshs = precision_recall_curve(labels==i, probs[:,i])\n",
        "    plt.plot(r, p, label=dataset.target_names[i])\n",
        "  plt.show()"
      ]
    },
    {
      "cell_type": "code",
      "execution_count": 112,
      "metadata": {
        "id": "XltpsSpTBZ9I"
      },
      "outputs": [],
      "source": [
        "def training(model, train, class_size, print_details=True):\n",
        "  model.fit(train.vecs, train.labels)\n",
        "  train_preds = model.predict(train.vecs)\n",
        "  if print_details:\n",
        "    dev_probs = model.predict_proba(train.vecs)\n",
        "    plot_pr_curves(dev_probs, train.labels, class_size)\n",
        "  evaluate(train_preds, train.labels, print_details)\n",
        "  \n",
        "\n",
        "def testing(model, test, class_size, print_details=True):\n",
        "  test_preds = model.predict(test.vecs)\n",
        "  if print_details:\n",
        "    test_probs = model.predict_proba(test.vecs)\n",
        "    plot_pr_curves(test_probs, test.labels, class_size)\n",
        "  evaluate(test_preds, test.labels, print_details)\n",
        "  plot_confusion_matrix(test_preds, test.labels, class_size)"
      ]
    },
    {
      "cell_type": "markdown",
      "metadata": {
        "id": "BQmgdRHPrxaE"
      },
      "source": [
        "### Logistic Regression"
      ]
    },
    {
      "cell_type": "code",
      "execution_count": 117,
      "metadata": {
        "colab": {
          "base_uri": "https://localhost:8080/"
        },
        "id": "xsmCUA56bZRB",
        "outputId": "019f45f3-30f6-4282-bdd6-39711edc90e7"
      },
      "outputs": [
        {
          "output_type": "stream",
          "name": "stdout",
          "text": [
            "Avg. F1 score: 1.0\n"
          ]
        },
        {
          "output_type": "stream",
          "name": "stderr",
          "text": [
            "/usr/local/lib/python3.7/dist-packages/sklearn/linear_model/_logistic.py:818: ConvergenceWarning: lbfgs failed to converge (status=1):\n",
            "STOP: TOTAL NO. of ITERATIONS REACHED LIMIT.\n",
            "\n",
            "Increase the number of iterations (max_iter) or scale the data as shown in:\n",
            "    https://scikit-learn.org/stable/modules/preprocessing.html\n",
            "Please also refer to the documentation for alternative solver options:\n",
            "    https://scikit-learn.org/stable/modules/linear_model.html#logistic-regression\n",
            "  extra_warning_msg=_LOGISTIC_SOLVER_CONVERGENCE_MSG,\n"
          ]
        }
      ],
      "source": [
        "#logistic Regression with default parameters\n",
        "model = LogisticRegression()\n",
        "training(model, train, len(dataset.target_names), print_details=False)"
      ]
    },
    {
      "cell_type": "code",
      "execution_count": 118,
      "metadata": {
        "colab": {
          "base_uri": "https://localhost:8080/",
          "height": 775
        },
        "id": "yerp0mfBTiLc",
        "outputId": "003f524d-15d6-475e-98d8-3ad302d5d173"
      },
      "outputs": [
        {
          "output_type": "display_data",
          "data": {
            "text/plain": [
              "<Figure size 432x288 with 1 Axes>"
            ],
            "image/png": "[encoded data removed]"
          },
          "metadata": {
            "needs_background": "light"
          }
        },
        {
          "output_type": "stream",
          "name": "stdout",
          "text": [
            "Precision: [0.94594595 0.83928571 0.84065934 0.80246914 0.84795322 0.83850932\n",
            " 0.78282828 0.88541667 0.96341463 0.9382716  0.93582888 0.94318182\n",
            " 0.81283422 0.9132948  0.98941799 0.86069652 0.92168675 0.9702381\n",
            " 0.94927536 0.92156863]\n",
            "Recall: [0.93959732 0.8245614  0.8547486  0.76923077 0.90625    0.82822086\n",
            " 0.88068182 0.89473684 0.92397661 0.89411765 0.93085106 0.93258427\n",
            " 0.89411765 0.91860465 0.93969849 0.96111111 0.92727273 0.96449704\n",
            " 0.85064935 0.7704918 ]\n",
            "F1 score: [0.94276094 0.83185841 0.84764543 0.78549849 0.87613293 0.83333333\n",
            " 0.82887701 0.89005236 0.94328358 0.91566265 0.93333333 0.93785311\n",
            " 0.85154062 0.91594203 0.96391753 0.90813648 0.9244713  0.96735905\n",
            " 0.89726027 0.83928571]\n",
            "Avg. F1 score: 0.8927835051546392\n"
          ]
        },
        {
          "output_type": "display_data",
          "data": {
            "text/plain": [
              "<Figure size 432x288 with 2 Axes>"
            ],
            "image/png": "[encoded data removed]"
          },
          "metadata": {
            "needs_background": "light"
          }
        }
      ],
      "source": [
        "testing(model, test, len(dataset.target_names))"
      ]
    },
    {
      "cell_type": "code",
      "source": [
        "#logistic Regression with adjusted parameters\n",
        "model = LogisticRegression(C = 0.1)\n",
        "training(model, train, len(dataset.target_names), print_details=False)"
      ],
      "metadata": {
        "colab": {
          "base_uri": "https://localhost:8080/"
        },
        "id": "NaiJmzkpz3q4",
        "outputId": "1cef537a-46dd-48ea-c622-ce8caaec8117"
      },
      "execution_count": 119,
      "outputs": [
        {
          "output_type": "stream",
          "name": "stdout",
          "text": [
            "Avg. F1 score: 0.999116050006314\n"
          ]
        },
        {
          "output_type": "stream",
          "name": "stderr",
          "text": [
            "/usr/local/lib/python3.7/dist-packages/sklearn/linear_model/_logistic.py:818: ConvergenceWarning: lbfgs failed to converge (status=1):\n",
            "STOP: TOTAL NO. of ITERATIONS REACHED LIMIT.\n",
            "\n",
            "Increase the number of iterations (max_iter) or scale the data as shown in:\n",
            "    https://scikit-learn.org/stable/modules/preprocessing.html\n",
            "Please also refer to the documentation for alternative solver options:\n",
            "    https://scikit-learn.org/stable/modules/linear_model.html#logistic-regression\n",
            "  extra_warning_msg=_LOGISTIC_SOLVER_CONVERGENCE_MSG,\n"
          ]
        }
      ]
    },
    {
      "cell_type": "code",
      "source": [
        "testing(model, test, len(dataset.target_names))"
      ],
      "metadata": {
        "colab": {
          "base_uri": "https://localhost:8080/",
          "height": 775
        },
        "id": "opkkIbZcz_th",
        "outputId": "8ec19dba-e92c-4c4d-c652-d946160acea8"
      },
      "execution_count": 120,
      "outputs": [
        {
          "output_type": "display_data",
          "data": {
            "text/plain": [
              "<Figure size 432x288 with 1 Axes>"
            ],
            "image/png": "[encoded data removed]"
          },
          "metadata": {
            "needs_background": "light"
          }
        },
        {
          "output_type": "stream",
          "name": "stdout",
          "text": [
            "Precision: [0.94444444 0.80924855 0.83606557 0.80487805 0.84795322 0.82608696\n",
            " 0.78217822 0.87830688 0.93939394 0.92682927 0.94054054 0.94857143\n",
            " 0.80952381 0.89473684 0.99470899 0.82692308 0.92168675 0.97590361\n",
            " 0.95555556 0.94736842]\n",
            "Recall: [0.91275168 0.81871345 0.8547486  0.78106509 0.90625    0.81595092\n",
            " 0.89772727 0.87368421 0.90643275 0.89411765 0.92553191 0.93258427\n",
            " 0.9        0.88953488 0.94472362 0.95555556 0.92727273 0.95857988\n",
            " 0.83766234 0.73770492]\n",
            "F1 score: [0.92832765 0.81395349 0.84530387 0.79279279 0.87613293 0.82098765\n",
            " 0.83597884 0.87598945 0.92261905 0.91017964 0.93297587 0.94050992\n",
            " 0.85236769 0.89212828 0.96907216 0.88659794 0.9244713  0.96716418\n",
            " 0.89273356 0.82949309]\n",
            "Avg. F1 score: 0.8865979381443299\n"
          ]
        },
        {
          "output_type": "display_data",
          "data": {
            "text/plain": [
              "<Figure size 432x288 with 2 Axes>"
            ],
            "image/png": "[encoded data removed]"
          },
          "metadata": {
            "needs_background": "light"
          }
        }
      ]
    },
    {
      "cell_type": "markdown",
      "metadata": {
        "id": "37igN5rJfJUw"
      },
      "source": [
        "#### Let's tune vectorizer's parameters\n",
        "Details are given [here](http://scikit-learn.org/stable/modules/generated/sklearn.feature_extraction.text.CountVectorizer.html)  \n",
        "e.g.\n",
        "```\n",
        "vectorizer = CountVectorizer(min_df=20) # min_df=1 by default\n",
        "```\n"
      ]
    },
    {
      "cell_type": "markdown",
      "metadata": {
        "id": "zwVsOYLJh9dm"
      },
      "source": [
        "#### Let's tune regularization parameter\n",
        "Details are given [here](http://scikit-learn.org/stable/modules/generated/sklearn.linear_model.LogisticRegression.html)  \n",
        "e.g.\n",
        "```\n",
        "model = LogisticRegression(C=0.1) # C=1.0 by default\n",
        "```\n"
      ]
    },
    {
      "cell_type": "markdown",
      "metadata": {
        "id": "oSji_qImbarf"
      },
      "source": [
        "## Compare multiple classifiers\n",
        "\n",
        "- We use NB, SVM and RF\n",
        "- See the performance with the default parameters  \n",
        "- Compare it with those with tuned parameters\n",
        "- Which model performs best in this problem?"
      ]
    },
    {
      "cell_type": "markdown",
      "metadata": {
        "id": "Ab41KOr5YyKE"
      },
      "source": [
        "### Naive Bayes\n",
        "Multinomial Naive Bayes with a smoothing parameter (*alpha*)"
      ]
    },
    {
      "cell_type": "code",
      "execution_count": 123,
      "metadata": {
        "colab": {
          "base_uri": "https://localhost:8080/"
        },
        "id": "8QnNrS6Xb4fS",
        "outputId": "2a9f25b1-9105-4397-d234-578a835620f3"
      },
      "outputs": [
        {
          "output_type": "stream",
          "name": "stdout",
          "text": [
            "Avg. F1 score: 0.9527718146230585\n"
          ]
        }
      ],
      "source": [
        "#Naive Bayes with default parameters\n",
        "model = MultinomialNB()\n",
        "training(model, train, len(dataset.target_names), False)"
      ]
    },
    {
      "cell_type": "code",
      "execution_count": 124,
      "metadata": {
        "id": "RHejctt3BKtC",
        "colab": {
          "base_uri": "https://localhost:8080/",
          "height": 313
        },
        "outputId": "6d819054-3fb2-415f-a7db-485fbd349d33"
      },
      "outputs": [
        {
          "output_type": "stream",
          "name": "stdout",
          "text": [
            "Avg. F1 score: 0.8565537555228276\n"
          ]
        },
        {
          "output_type": "display_data",
          "data": {
            "text/plain": [
              "<Figure size 432x288 with 2 Axes>"
            ],
            "image/png": "[encoded data removed]"
          },
          "metadata": {
            "needs_background": "light"
          }
        }
      ],
      "source": [
        "testing(model, test, len(dataset.target_names), False)"
      ]
    },
    {
      "cell_type": "code",
      "source": [
        "#Naive Bayes with adjusted parameters\n",
        "model = MultinomialNB(alpha = 0.1)\n",
        "training(model, train, len(dataset.target_names), False)"
      ],
      "metadata": {
        "colab": {
          "base_uri": "https://localhost:8080/"
        },
        "id": "nUevsLDT0YIC",
        "outputId": "e734ff56-5ad7-45c8-d39a-1c1e632875aa"
      },
      "execution_count": 129,
      "outputs": [
        {
          "output_type": "stream",
          "name": "stdout",
          "text": [
            "Avg. F1 score: 0.9672938502336154\n"
          ]
        }
      ]
    },
    {
      "cell_type": "code",
      "source": [
        "testing(model, test, len(dataset.target_names), False)"
      ],
      "metadata": {
        "colab": {
          "base_uri": "https://localhost:8080/",
          "height": 313
        },
        "id": "XNd6JJpl0ebZ",
        "outputId": "a4c65cb5-0435-4ef4-cd1c-e732ec20e023"
      },
      "execution_count": 130,
      "outputs": [
        {
          "output_type": "stream",
          "name": "stdout",
          "text": [
            "Avg. F1 score: 0.8771723122238586\n"
          ]
        },
        {
          "output_type": "display_data",
          "data": {
            "text/plain": [
              "<Figure size 432x288 with 2 Axes>"
            ],
            "image/png": "[encoded data removed]"
          },
          "metadata": {
            "needs_background": "light"
          }
        }
      ]
    },
    {
      "cell_type": "markdown",
      "metadata": {
        "id": "gMfEmMkna02A"
      },
      "source": [
        "#### Let's tune a smoothing parameter\n",
        "Details are given [here](http://scikit-learn.org/stable/modules/generated/sklearn.naive_bayes.MultinomialNB.html#sklearn.naive_bayes.MultinomialNB)\n",
        "\n",
        "e.g.\n",
        "```\n",
        "model = MultinomialNB(alpha=0.1) # alpha=1.0 by default\n",
        "```\n",
        "\n"
      ]
    },
    {
      "cell_type": "markdown",
      "metadata": {
        "id": "vDgK-M0dDz9G"
      },
      "source": [
        "### Support Vector Machine\n",
        "Support Vector Machine with penalty parameter *C*"
      ]
    },
    {
      "cell_type": "code",
      "execution_count": 131,
      "metadata": {
        "id": "Vkxdvd6oC2-s",
        "colab": {
          "base_uri": "https://localhost:8080/"
        },
        "outputId": "5041f78d-0a06-49f9-fd0e-c3b7a0ecb430"
      },
      "outputs": [
        {
          "output_type": "stream",
          "name": "stdout",
          "text": [
            "Avg. F1 score: 0.08852127793913371\n"
          ]
        }
      ],
      "source": [
        "# SVC with default parameters\n",
        "model = SVC()\n",
        "training(model, train, len(dataset.target_names), False)"
      ]
    },
    {
      "cell_type": "code",
      "execution_count": 132,
      "metadata": {
        "id": "zxqbVa9fDGvc",
        "colab": {
          "base_uri": "https://localhost:8080/",
          "height": 313
        },
        "outputId": "f606a7b8-b443-46f9-c634-47c7a19614c5"
      },
      "outputs": [
        {
          "output_type": "stream",
          "name": "stdout",
          "text": [
            "Avg. F1 score: 0.0759941089837997\n"
          ]
        },
        {
          "output_type": "display_data",
          "data": {
            "text/plain": [
              "<Figure size 432x288 with 2 Axes>"
            ],
            "image/png": "[encoded data removed]"
          },
          "metadata": {
            "needs_background": "light"
          }
        }
      ],
      "source": [
        "testing(model, test, len(dataset.target_names), False)"
      ]
    },
    {
      "cell_type": "code",
      "source": [
        "# SVC with adjusted parameters\n",
        "model = SVC(kernel = 'poly')\n",
        "training(model, train, len(dataset.target_names), False)"
      ],
      "metadata": {
        "colab": {
          "base_uri": "https://localhost:8080/"
        },
        "id": "EFVm1JYi1o1E",
        "outputId": "20a1b393-f0b1-4898-d382-fc048bfcaa09"
      },
      "execution_count": 133,
      "outputs": [
        {
          "output_type": "stream",
          "name": "stdout",
          "text": [
            "Avg. F1 score: 0.05821442101275413\n"
          ]
        }
      ]
    },
    {
      "cell_type": "code",
      "source": [
        "testing(model, test, len(dataset.target_names), False)"
      ],
      "metadata": {
        "colab": {
          "base_uri": "https://localhost:8080/",
          "height": 313
        },
        "id": "IZnRnQN71v3j",
        "outputId": "5b46ae1c-a842-4d69-c3fc-097ded305c6e"
      },
      "execution_count": 134,
      "outputs": [
        {
          "output_type": "stream",
          "name": "stdout",
          "text": [
            "Avg. F1 score: 0.05125184094256259\n"
          ]
        },
        {
          "output_type": "display_data",
          "data": {
            "text/plain": [
              "<Figure size 432x288 with 2 Axes>"
            ],
            "image/png": "[encoded data removed]"
          },
          "metadata": {
            "needs_background": "light"
          }
        }
      ]
    },
    {
      "cell_type": "markdown",
      "metadata": {
        "id": "b1f1cfTMboI6"
      },
      "source": [
        "#### Let's tune some parameters\n",
        "Details are given [here](http://scikit-learn.org/stable/modules/generated/sklearn.svm.SVC.html)\n",
        "\n",
        "e.g.\n",
        "```\n",
        "model = SVC(C=0.1) # C=1.0 by default\n",
        "# or\n",
        "model = SVC(kernel='linear') # kernel='rbf' by default\n",
        "# or combine them\n",
        "model = SVC(C=0.1, kernel='linear')\n",
        "```\n",
        "\n"
      ]
    },
    {
      "cell_type": "markdown",
      "metadata": {
        "id": "S7YB-a1wD3Ke"
      },
      "source": [
        "### Random Forest\n",
        "Random Forest Classifier"
      ]
    },
    {
      "cell_type": "code",
      "execution_count": 135,
      "metadata": {
        "colab": {
          "base_uri": "https://localhost:8080/"
        },
        "id": "mgB7JvujD3jG",
        "outputId": "f0fbc74d-905a-4e85-d6c9-5911cee59895"
      },
      "outputs": [
        {
          "output_type": "stream",
          "name": "stdout",
          "text": [
            "Avg. F1 score: 1.0\n"
          ]
        }
      ],
      "source": [
        "#Randome Forest with default parameters\n",
        "model = RandomForestClassifier()\n",
        "training(model, train, len(dataset.target_names), False)"
      ]
    },
    {
      "cell_type": "code",
      "execution_count": 136,
      "metadata": {
        "colab": {
          "base_uri": "https://localhost:8080/",
          "height": 313
        },
        "id": "VAwAFP9yD9XA",
        "outputId": "7530b669-41d7-409e-bae0-420a39021fda"
      },
      "outputs": [
        {
          "output_type": "stream",
          "name": "stdout",
          "text": [
            "Avg. F1 score: 0.8521354933726067\n"
          ]
        },
        {
          "output_type": "display_data",
          "data": {
            "text/plain": [
              "<Figure size 432x288 with 2 Axes>"
            ],
            "image/png": "[encoded data removed]"
          },
          "metadata": {
            "needs_background": "light"
          }
        }
      ],
      "source": [
        "testing(model, test, len(dataset.target_names), False)"
      ]
    },
    {
      "cell_type": "code",
      "source": [
        "#Randome Forest with adjusted parameters\n",
        "model = RandomForestClassifier(n_estimators=70)\n",
        "training(model, train, len(dataset.target_names), False)"
      ],
      "metadata": {
        "colab": {
          "base_uri": "https://localhost:8080/"
        },
        "id": "RZdY3UJc2-JX",
        "outputId": "27ae0931-62b2-42e7-fcfb-5250011436a4"
      },
      "execution_count": 144,
      "outputs": [
        {
          "output_type": "stream",
          "name": "stdout",
          "text": [
            "Avg. F1 score: 1.0\n"
          ]
        }
      ]
    },
    {
      "cell_type": "code",
      "source": [
        "testing(model, test, len(dataset.target_names), False)"
      ],
      "metadata": {
        "colab": {
          "base_uri": "https://localhost:8080/",
          "height": 313
        },
        "id": "4bgRUF5n3Gof",
        "outputId": "a9941181-076d-408c-e5bb-9f11a7213f3f"
      },
      "execution_count": 145,
      "outputs": [
        {
          "output_type": "stream",
          "name": "stdout",
          "text": [
            "Avg. F1 score: 0.8444771723122239\n"
          ]
        },
        {
          "output_type": "display_data",
          "data": {
            "text/plain": [
              "<Figure size 432x288 with 2 Axes>"
            ],
            "image/png": "[encoded data removed]"
          },
          "metadata": {
            "needs_background": "light"
          }
        }
      ]
    },
    {
      "cell_type": "markdown",
      "metadata": {
        "id": "4YUjKWg2gNJg"
      },
      "source": [
        "#### Let's tune some parameters\n",
        "Details are given [here](http://scikit-learn.org/stable/modules/generated/sklearn.ensemble.RandomForestClassifier.html)\n",
        "\n",
        "e.g.\n",
        "```\n",
        "model = RandomForestClassifier(max_depth=30) # max_depth=None by default (i.e. no limit)\n",
        "# or\n",
        "model = RandomForestClassifier(n_estimators=20) # n_estimators=10 by default\n",
        "# or combine them\n",
        "model = RandomForestClassifier(max_depth=30, n_estimators=20)\n",
        "```\n",
        "\n"
      ]
    },
    {
      "cell_type": "markdown",
      "source": [
        "# **Parameters changed**"
      ],
      "metadata": {
        "id": "6XVcBsUj413m"
      }
    },
    {
      "cell_type": "markdown",
      "source": [
        "**Logistic Regression Model:**\n",
        "\n",
        "  Model with default parameters:\n",
        "    \n",
        "    (C = 1.0)\n",
        "     F1 score on training dataset: 1.0.\n",
        "     F1 score on testing dataset: 0.8927835051546392.\n",
        "  Model with adjusted parameters:\n",
        "    \n",
        "    (C = 0.1)\n",
        "     F1 score on training dataset: 0.999116050006314.\n",
        "     F1 score on testing dataset: 0.8865979381443299.\n",
        "\n",
        "    After comparing the two models, we can see that our model with default parameter works better.\n",
        "    \n",
        "    \n",
        "  \n",
        "\n",
        "**Naive Bayes Model:**\n",
        "\n",
        "  Model with default parameters:\n",
        "\n",
        "    (alpha = 1.0)\n",
        "     F1 score on training dataset: 0.9527718146230585.\n",
        "     F1 score on testing dataset: 0.8565537555228276\n",
        "  \n",
        "  Model with adjusted parameters:\n",
        "    \n",
        "    (alpha = 0.1)\n",
        "    F1 score on training dataset: 0.9672938502336154\n",
        "    F1 score on testing dataset: 0.8771723122238586\n",
        "\n",
        "    After comparing the two models, we can see that our model with adjusted parameter works better.\n",
        "\n",
        "**SVC Model:**\n",
        "\n",
        "Model with default parameters:\n",
        "\n",
        "    (kernel = ’rbf’)\n",
        "     F1 score on training dataset: 0.08852127793913371.\n",
        "     F1 score on testing dataset: 0.0759941089837997.\n",
        "  \n",
        "  Model with adjusted parameters:\n",
        "    \n",
        "    (kernel = poly)\n",
        "    F1 score on training dataset: 0.05821442101275413.\n",
        "    F1 score on testing dataset: 0.05125184094256259.\n",
        "\n",
        "    After comparing the two models, we can see that our model with default parameter works better.\n",
        "\n",
        "**Random Forest Model:**\n",
        "\n",
        "Model with default parameters:\n",
        "\n",
        "    (n_estimators=100)\n",
        "     F1 score on training dataset: 1.0.\n",
        "     F1 score on testing dataset: 0.8521354933726067.\n",
        "  \n",
        "  Model with adjusted parameters:\n",
        "    \n",
        "    (n_estimators=70)\n",
        "    F1 score on training dataset: 1.0.\n",
        "    F1 score on testing dataset: 0.8444771723122239.\n",
        "\n",
        "    After comparing the two models, we can see that our model with adjusted parameter works better.\n",
        "\n",
        "\n",
        "\n",
        "\n",
        "\n"
      ],
      "metadata": {
        "id": "w7zifj2X478a"
      }
    },
    {
      "cell_type": "markdown",
      "source": [
        "# **What metrics did we use to compare the result ?**"
      ],
      "metadata": {
        "id": "WOiWceIo4s3a"
      }
    },
    {
      "cell_type": "markdown",
      "source": [
        "The metric that we used for the model is micro average F1 score."
      ],
      "metadata": {
        "id": "gIs2fnaf-IC5"
      }
    },
    {
      "cell_type": "markdown",
      "source": [
        "# **Why do we use that metric ?**"
      ],
      "metadata": {
        "id": "TMNxMyAT-iXR"
      }
    },
    {
      "cell_type": "markdown",
      "source": [
        "F1 score is harmonic mean of precision and recall, this is useful because it consolidates these two numbers into one number that we can compare.\n",
        "\n",
        "  F1 = 2*P*R/(P + R)\n",
        "\n",
        "Since this is a multiclass classification problem, we need to use either micro average F1 score or macro average F1 score.\n",
        "We choose micro average because we assume the distribution is the same in the real world.\n",
        "\n",
        "\n",
        "\n"
      ],
      "metadata": {
        "id": "b1c7zPXV-rQi"
      }
    },
    {
      "cell_type": "markdown",
      "source": [
        "# **Why do some models work better than others ?**"
      ],
      "metadata": {
        "id": "n-o8AL_pARNZ"
      }
    },
    {
      "cell_type": "markdown",
      "source": [
        "Among these four models, Logistic Regression model has the best performance while SVC has the worest performance.\n",
        "Logistic Regreesion and Naive Bayes have the best performance because they work well on categorical variables while SVC does not work well because the model calculation is based on Euclidean distances."
      ],
      "metadata": {
        "id": "ObaghtjKAZJQ"
      }
    }
  ],
  "metadata": {
    "colab": {
      "collapsed_sections": [],
      "name": "Wk2 - Bag of Words Classifiers.ipynb",
      "provenance": []
    },
    "kernelspec": {
      "display_name": "Python 3",
      "language": "python",
      "name": "python3"
    },
    "language_info": {
      "codemirror_mode": {
        "name": "ipython",
        "version": 3
      },
      "file_extension": ".py",
      "mimetype": "text/x-python",
      "name": "python",
      "nbconvert_exporter": "python",
      "pygments_lexer": "ipython3",
      "version": "3.7.1"
    }
  },
  "nbformat": 4,
  "nbformat_minor": 0
}